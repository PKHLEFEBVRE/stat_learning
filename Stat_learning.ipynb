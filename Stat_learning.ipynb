{
 "cells": [
  {
   "cell_type": "code",
<<<<<<< HEAD
   "execution_count": 104,
   "metadata": {},
   "outputs": [],
   "source": [
    "import pandas as pd\n",
    "import numpy as np\n",
    "import matplotlib.pyplot as plt\n",
    "from scipy.signal import savgol_filter\n",
    "from sklearn.decomposition import PCA\n",
    "from sklearn.preprocessing import StandardScaler\n",
    "from sklearn import linear_model\n",
    "from sklearn.metrics import mean_squared_error, r2_score\n",
    "from sklearn.datasets import load_breast_cancer\n",
    "from sklearn.cluster import KMeans\n",
    "from sklearn.neighbors import KNeighborsClassifier\n",
    "from sklearn.preprocessing import Normalizer\n",
    "from matplotlib.colors import ListedColormap\n",
    "import seaborn as sns\n",
    "\n",
=======
   "execution_count": 8,
   "source": [
    "import pandas as pd\r\n",
    "import numpy as np\r\n",
    "import matplotlib.pyplot as plt\r\n",
    "from scipy.signal import savgol_filter\r\n",
    "from sklearn.decomposition import PCA\r\n",
    "from sklearn.preprocessing import StandardScaler\r\n",
    "from sklearn import linear_model\r\n",
    "from sklearn.model_selection import train_test_split\r\n",
    "from sklearn.metrics import mean_squared_error, r2_score\r\n",
    "from sklearn.datasets import load_breast_cancer\r\n",
    "from sklearn.cluster import KMeans\r\n",
    "\r\n",
>>>>>>> ea00dd733844b6493defdd3e0cfecd8f4f2c254a
    "data = load_breast_cancer()"
   ]
  },
  {
   "cell_type": "code",
<<<<<<< HEAD
   "execution_count": 150,
   "metadata": {},
=======
   "execution_count": 2,
   "source": [
    "print(\"The sklearn breast cancer dataset keys:\")\r\n",
    "print(data.keys()) # dict_keys(['target_names', 'target', 'feature_names', 'dataa', 'DESCR'])\r\n",
    "print(\"---\")\r\n",
    "\r\n",
    "li_classes = [data.target_names[1], data.target_names[0]]\r\n",
    "li_target = [1 if x==0 else 0 for x in list(data.target)]\r\n",
    "features = list(data.feature_names)\r\n",
    "\r\n",
    "print(\"There are 2 target classes:\")\r\n",
    "print(\"li_classes\", li_classes)\r\n",
    "print(\"---\")\r\n",
    "print(\"Target class distribution from a total of %d target values:\" % len(li_target))\r\n",
    "print(pd.Series(li_target).value_counts())\r\n",
    "print(\"---\")\r\n",
    "print(\"Number and name of features : \")\r\n",
    "print(len(features), features)\r\n",
    "print(\"---\")\r\n",
    "\r\n",
    "\r\n",
    "df_all = pd.DataFrame(data.data[:,:], columns=features)\r\n",
    "print(\"Describe dataaframe, first 6 columns:\")\r\n",
    "print(df_all.iloc[:,:6].describe().to_string())"
   ],
>>>>>>> ea00dd733844b6493defdd3e0cfecd8f4f2c254a
   "outputs": [
    {
     "name": "stdout",
     "output_type": "stream",
     "text": [
      "The sklearn breast cancer dataset keys:\n",
      "dict_keys(['data', 'target', 'frame', 'target_names', 'DESCR', 'feature_names', 'filename', 'data_module'])\n",
      "---\n",
      "There are 2 target classes:\n",
      "li_classes ['benign', 'malignant']\n",
      "---\n",
      "Target class distribution from a total of 569 target values:\n",
      "0    357\n",
      "1    212\n",
      "dtype: int64\n",
      "---\n",
      "Number and name of features : \n",
      "30 ['mean radius', 'mean texture', 'mean perimeter', 'mean area', 'mean smoothness', 'mean compactness', 'mean concavity', 'mean concave points', 'mean symmetry', 'mean fractal dimension', 'radius error', 'texture error', 'perimeter error', 'area error', 'smoothness error', 'compactness error', 'concavity error', 'concave points error', 'symmetry error', 'fractal dimension error', 'worst radius', 'worst texture', 'worst perimeter', 'worst area', 'worst smoothness', 'worst compactness', 'worst concavity', 'worst concave points', 'worst symmetry', 'worst fractal dimension']\n",
      "---\n",
      "Describe dataframe, first 6 columns:\n",
      "       mean radius  mean texture  mean perimeter    mean area  mean smoothness  mean compactness\n",
      "count   569.000000    569.000000      569.000000   569.000000       569.000000        569.000000\n",
      "mean     14.127292     19.289649       91.969033   654.889104         0.096360          0.104341\n",
      "std       3.524049      4.301036       24.298981   351.914129         0.014064          0.052813\n",
      "min       6.981000      9.710000       43.790000   143.500000         0.052630          0.019380\n",
      "25%      11.700000     16.170000       75.170000   420.300000         0.086370          0.064920\n",
      "50%      13.370000     18.840000       86.240000   551.100000         0.095870          0.092630\n",
      "75%      15.780000     21.800000      104.100000   782.700000         0.105300          0.130400\n",
      "max      28.110000     39.280000      188.500000  2501.000000         0.163400          0.345400\n"
     ]
    }
   ],
   "source": [
    "print(\"The sklearn breast cancer dataset keys:\")\n",
    "print(data.keys()) # dict_keys(['target_names', 'target', 'feature_names', 'dataa', 'DESCR'])\n",
    "print(\"---\")\n",
    "\n",
    "li_classes = [data.target_names[1], data.target_names[0]]\n",
    "li_target = [1 if x==0 else 0 for x in list(data.target)]\n",
    "features = list(data.feature_names)\n",
    "\n",
    "print(\"There are 2 target classes:\")\n",
    "print(\"li_classes\", li_classes)\n",
    "print(\"---\")\n",
    "print(\"Target class distribution from a total of %d target values:\" % len(li_target))\n",
    "print(pd.Series(li_target).value_counts())\n",
    "print(\"---\")\n",
    "print(\"Number and name of features : \")\n",
    "print(len(features), features)\n",
    "print(\"---\")\n",
    "\n",
    "\n",
    "df_all = pd.DataFrame(data.data[:,:], columns=features)\n",
    "print(\"Describe dataframe, first 6 columns:\")\n",
    "print(df_all.iloc[:,:6].describe().to_string())"
   ]
  },
  {
   "cell_type": "code",
<<<<<<< HEAD
   "execution_count": 151,
   "metadata": {},
=======
   "execution_count": 3,
   "source": [
    "print(df_all.shape)\r\n",
    "labels = np.reshape(data.target,(len(data.target),1))\r\n",
    "df_all = np.concatenate([df_all,labels],axis=1)\r\n",
    "print(df_all.shape)\r\n",
    "\r\n",
    "li_ftrs = features.copy()\r\n",
    "li_ftrs.insert(len(li_ftrs),\"Labels\")"
   ],
>>>>>>> ea00dd733844b6493defdd3e0cfecd8f4f2c254a
   "outputs": [
    {
     "name": "stdout",
     "output_type": "stream",
     "text": [
      "(569, 30)\n",
      "(569, 31)\n"
     ]
    }
   ],
   "source": [
    "print(df_all.shape)\n",
    "labels = np.reshape(data.target,(len(data.target),1))\n",
    "df_all = np.concatenate([df_all,labels],axis=1)\n",
    "print(df_all.shape)\n",
    "\n",
    "li_ftrs = features.copy()\n",
    "li_ftrs.insert(len(li_ftrs),\"Labels\")"
   ]
  },
  {
   "cell_type": "code",
<<<<<<< HEAD
   "execution_count": 152,
   "metadata": {},
=======
   "execution_count": 4,
   "source": [
    "DB = pd.DataFrame(df_all,columns=li_ftrs)\r\n",
    "DB"
   ],
>>>>>>> ea00dd733844b6493defdd3e0cfecd8f4f2c254a
   "outputs": [
    {
     "data": {
      "text/html": [
       "<div>\n",
       "<style scoped>\n",
       "    .dataframe tbody tr th:only-of-type {\n",
       "        vertical-align: middle;\n",
       "    }\n",
       "\n",
       "    .dataframe tbody tr th {\n",
       "        vertical-align: top;\n",
       "    }\n",
       "\n",
       "    .dataframe thead th {\n",
       "        text-align: right;\n",
       "    }\n",
       "</style>\n",
       "<table border=\"1\" class=\"dataframe\">\n",
       "  <thead>\n",
       "    <tr style=\"text-align: right;\">\n",
       "      <th></th>\n",
       "      <th>mean radius</th>\n",
       "      <th>mean texture</th>\n",
       "      <th>mean perimeter</th>\n",
       "      <th>mean area</th>\n",
       "      <th>mean smoothness</th>\n",
       "      <th>mean compactness</th>\n",
       "      <th>mean concavity</th>\n",
       "      <th>mean concave points</th>\n",
       "      <th>mean symmetry</th>\n",
       "      <th>mean fractal dimension</th>\n",
       "      <th>...</th>\n",
       "      <th>worst texture</th>\n",
       "      <th>worst perimeter</th>\n",
       "      <th>worst area</th>\n",
       "      <th>worst smoothness</th>\n",
       "      <th>worst compactness</th>\n",
       "      <th>worst concavity</th>\n",
       "      <th>worst concave points</th>\n",
       "      <th>worst symmetry</th>\n",
       "      <th>worst fractal dimension</th>\n",
       "      <th>Labels</th>\n",
       "    </tr>\n",
       "  </thead>\n",
       "  <tbody>\n",
       "    <tr>\n",
       "      <th>0</th>\n",
       "      <td>17.99</td>\n",
       "      <td>10.38</td>\n",
       "      <td>122.80</td>\n",
       "      <td>1001.0</td>\n",
       "      <td>0.11840</td>\n",
       "      <td>0.27760</td>\n",
       "      <td>0.30010</td>\n",
       "      <td>0.14710</td>\n",
       "      <td>0.2419</td>\n",
       "      <td>0.07871</td>\n",
       "      <td>...</td>\n",
       "      <td>17.33</td>\n",
       "      <td>184.60</td>\n",
       "      <td>2019.0</td>\n",
       "      <td>0.16220</td>\n",
       "      <td>0.66560</td>\n",
       "      <td>0.7119</td>\n",
       "      <td>0.2654</td>\n",
       "      <td>0.4601</td>\n",
       "      <td>0.11890</td>\n",
       "      <td>0.0</td>\n",
       "    </tr>\n",
       "    <tr>\n",
       "      <th>1</th>\n",
       "      <td>20.57</td>\n",
       "      <td>17.77</td>\n",
       "      <td>132.90</td>\n",
       "      <td>1326.0</td>\n",
       "      <td>0.08474</td>\n",
       "      <td>0.07864</td>\n",
       "      <td>0.08690</td>\n",
       "      <td>0.07017</td>\n",
       "      <td>0.1812</td>\n",
       "      <td>0.05667</td>\n",
       "      <td>...</td>\n",
       "      <td>23.41</td>\n",
       "      <td>158.80</td>\n",
       "      <td>1956.0</td>\n",
       "      <td>0.12380</td>\n",
       "      <td>0.18660</td>\n",
       "      <td>0.2416</td>\n",
       "      <td>0.1860</td>\n",
       "      <td>0.2750</td>\n",
       "      <td>0.08902</td>\n",
       "      <td>0.0</td>\n",
       "    </tr>\n",
       "    <tr>\n",
       "      <th>2</th>\n",
       "      <td>19.69</td>\n",
       "      <td>21.25</td>\n",
       "      <td>130.00</td>\n",
       "      <td>1203.0</td>\n",
       "      <td>0.10960</td>\n",
       "      <td>0.15990</td>\n",
       "      <td>0.19740</td>\n",
       "      <td>0.12790</td>\n",
       "      <td>0.2069</td>\n",
       "      <td>0.05999</td>\n",
       "      <td>...</td>\n",
       "      <td>25.53</td>\n",
       "      <td>152.50</td>\n",
       "      <td>1709.0</td>\n",
       "      <td>0.14440</td>\n",
       "      <td>0.42450</td>\n",
       "      <td>0.4504</td>\n",
       "      <td>0.2430</td>\n",
       "      <td>0.3613</td>\n",
       "      <td>0.08758</td>\n",
       "      <td>0.0</td>\n",
       "    </tr>\n",
       "    <tr>\n",
       "      <th>3</th>\n",
       "      <td>11.42</td>\n",
       "      <td>20.38</td>\n",
       "      <td>77.58</td>\n",
       "      <td>386.1</td>\n",
       "      <td>0.14250</td>\n",
       "      <td>0.28390</td>\n",
       "      <td>0.24140</td>\n",
       "      <td>0.10520</td>\n",
       "      <td>0.2597</td>\n",
       "      <td>0.09744</td>\n",
       "      <td>...</td>\n",
       "      <td>26.50</td>\n",
       "      <td>98.87</td>\n",
       "      <td>567.7</td>\n",
       "      <td>0.20980</td>\n",
       "      <td>0.86630</td>\n",
       "      <td>0.6869</td>\n",
       "      <td>0.2575</td>\n",
       "      <td>0.6638</td>\n",
       "      <td>0.17300</td>\n",
       "      <td>0.0</td>\n",
       "    </tr>\n",
       "    <tr>\n",
       "      <th>4</th>\n",
       "      <td>20.29</td>\n",
       "      <td>14.34</td>\n",
       "      <td>135.10</td>\n",
       "      <td>1297.0</td>\n",
       "      <td>0.10030</td>\n",
       "      <td>0.13280</td>\n",
       "      <td>0.19800</td>\n",
       "      <td>0.10430</td>\n",
       "      <td>0.1809</td>\n",
       "      <td>0.05883</td>\n",
       "      <td>...</td>\n",
       "      <td>16.67</td>\n",
       "      <td>152.20</td>\n",
       "      <td>1575.0</td>\n",
       "      <td>0.13740</td>\n",
       "      <td>0.20500</td>\n",
       "      <td>0.4000</td>\n",
       "      <td>0.1625</td>\n",
       "      <td>0.2364</td>\n",
       "      <td>0.07678</td>\n",
       "      <td>0.0</td>\n",
       "    </tr>\n",
       "    <tr>\n",
       "      <th>...</th>\n",
       "      <td>...</td>\n",
       "      <td>...</td>\n",
       "      <td>...</td>\n",
       "      <td>...</td>\n",
       "      <td>...</td>\n",
       "      <td>...</td>\n",
       "      <td>...</td>\n",
       "      <td>...</td>\n",
       "      <td>...</td>\n",
       "      <td>...</td>\n",
       "      <td>...</td>\n",
       "      <td>...</td>\n",
       "      <td>...</td>\n",
       "      <td>...</td>\n",
       "      <td>...</td>\n",
       "      <td>...</td>\n",
       "      <td>...</td>\n",
       "      <td>...</td>\n",
       "      <td>...</td>\n",
       "      <td>...</td>\n",
       "      <td>...</td>\n",
       "    </tr>\n",
       "    <tr>\n",
       "      <th>564</th>\n",
       "      <td>21.56</td>\n",
       "      <td>22.39</td>\n",
       "      <td>142.00</td>\n",
       "      <td>1479.0</td>\n",
       "      <td>0.11100</td>\n",
       "      <td>0.11590</td>\n",
       "      <td>0.24390</td>\n",
       "      <td>0.13890</td>\n",
       "      <td>0.1726</td>\n",
       "      <td>0.05623</td>\n",
       "      <td>...</td>\n",
       "      <td>26.40</td>\n",
       "      <td>166.10</td>\n",
       "      <td>2027.0</td>\n",
       "      <td>0.14100</td>\n",
       "      <td>0.21130</td>\n",
       "      <td>0.4107</td>\n",
       "      <td>0.2216</td>\n",
       "      <td>0.2060</td>\n",
       "      <td>0.07115</td>\n",
       "      <td>0.0</td>\n",
       "    </tr>\n",
       "    <tr>\n",
       "      <th>565</th>\n",
       "      <td>20.13</td>\n",
       "      <td>28.25</td>\n",
       "      <td>131.20</td>\n",
       "      <td>1261.0</td>\n",
       "      <td>0.09780</td>\n",
       "      <td>0.10340</td>\n",
       "      <td>0.14400</td>\n",
       "      <td>0.09791</td>\n",
       "      <td>0.1752</td>\n",
       "      <td>0.05533</td>\n",
       "      <td>...</td>\n",
       "      <td>38.25</td>\n",
       "      <td>155.00</td>\n",
       "      <td>1731.0</td>\n",
       "      <td>0.11660</td>\n",
       "      <td>0.19220</td>\n",
       "      <td>0.3215</td>\n",
       "      <td>0.1628</td>\n",
       "      <td>0.2572</td>\n",
       "      <td>0.06637</td>\n",
       "      <td>0.0</td>\n",
       "    </tr>\n",
       "    <tr>\n",
       "      <th>566</th>\n",
       "      <td>16.60</td>\n",
       "      <td>28.08</td>\n",
       "      <td>108.30</td>\n",
       "      <td>858.1</td>\n",
       "      <td>0.08455</td>\n",
       "      <td>0.10230</td>\n",
       "      <td>0.09251</td>\n",
       "      <td>0.05302</td>\n",
       "      <td>0.1590</td>\n",
       "      <td>0.05648</td>\n",
       "      <td>...</td>\n",
       "      <td>34.12</td>\n",
       "      <td>126.70</td>\n",
       "      <td>1124.0</td>\n",
       "      <td>0.11390</td>\n",
       "      <td>0.30940</td>\n",
       "      <td>0.3403</td>\n",
       "      <td>0.1418</td>\n",
       "      <td>0.2218</td>\n",
       "      <td>0.07820</td>\n",
       "      <td>0.0</td>\n",
       "    </tr>\n",
       "    <tr>\n",
       "      <th>567</th>\n",
       "      <td>20.60</td>\n",
       "      <td>29.33</td>\n",
       "      <td>140.10</td>\n",
       "      <td>1265.0</td>\n",
       "      <td>0.11780</td>\n",
       "      <td>0.27700</td>\n",
       "      <td>0.35140</td>\n",
       "      <td>0.15200</td>\n",
       "      <td>0.2397</td>\n",
       "      <td>0.07016</td>\n",
       "      <td>...</td>\n",
       "      <td>39.42</td>\n",
       "      <td>184.60</td>\n",
       "      <td>1821.0</td>\n",
       "      <td>0.16500</td>\n",
       "      <td>0.86810</td>\n",
       "      <td>0.9387</td>\n",
       "      <td>0.2650</td>\n",
       "      <td>0.4087</td>\n",
       "      <td>0.12400</td>\n",
       "      <td>0.0</td>\n",
       "    </tr>\n",
       "    <tr>\n",
       "      <th>568</th>\n",
       "      <td>7.76</td>\n",
       "      <td>24.54</td>\n",
       "      <td>47.92</td>\n",
       "      <td>181.0</td>\n",
       "      <td>0.05263</td>\n",
       "      <td>0.04362</td>\n",
       "      <td>0.00000</td>\n",
       "      <td>0.00000</td>\n",
       "      <td>0.1587</td>\n",
       "      <td>0.05884</td>\n",
       "      <td>...</td>\n",
       "      <td>30.37</td>\n",
       "      <td>59.16</td>\n",
       "      <td>268.6</td>\n",
       "      <td>0.08996</td>\n",
       "      <td>0.06444</td>\n",
       "      <td>0.0000</td>\n",
       "      <td>0.0000</td>\n",
       "      <td>0.2871</td>\n",
       "      <td>0.07039</td>\n",
       "      <td>1.0</td>\n",
       "    </tr>\n",
       "  </tbody>\n",
       "</table>\n",
       "<p>569 rows × 31 columns</p>\n",
       "</div>"
      ],
      "text/plain": [
       "     mean radius  mean texture  mean perimeter  mean area  mean smoothness  \\\n",
       "0          17.99         10.38          122.80     1001.0          0.11840   \n",
       "1          20.57         17.77          132.90     1326.0          0.08474   \n",
       "2          19.69         21.25          130.00     1203.0          0.10960   \n",
       "3          11.42         20.38           77.58      386.1          0.14250   \n",
       "4          20.29         14.34          135.10     1297.0          0.10030   \n",
       "..           ...           ...             ...        ...              ...   \n",
       "564        21.56         22.39          142.00     1479.0          0.11100   \n",
       "565        20.13         28.25          131.20     1261.0          0.09780   \n",
       "566        16.60         28.08          108.30      858.1          0.08455   \n",
       "567        20.60         29.33          140.10     1265.0          0.11780   \n",
       "568         7.76         24.54           47.92      181.0          0.05263   \n",
       "\n",
       "     mean compactness  mean concavity  mean concave points  mean symmetry  \\\n",
       "0             0.27760         0.30010              0.14710         0.2419   \n",
       "1             0.07864         0.08690              0.07017         0.1812   \n",
       "2             0.15990         0.19740              0.12790         0.2069   \n",
       "3             0.28390         0.24140              0.10520         0.2597   \n",
       "4             0.13280         0.19800              0.10430         0.1809   \n",
       "..                ...             ...                  ...            ...   \n",
       "564           0.11590         0.24390              0.13890         0.1726   \n",
       "565           0.10340         0.14400              0.09791         0.1752   \n",
       "566           0.10230         0.09251              0.05302         0.1590   \n",
       "567           0.27700         0.35140              0.15200         0.2397   \n",
       "568           0.04362         0.00000              0.00000         0.1587   \n",
       "\n",
       "     mean fractal dimension  ...  worst texture  worst perimeter  worst area  \\\n",
       "0                   0.07871  ...          17.33           184.60      2019.0   \n",
       "1                   0.05667  ...          23.41           158.80      1956.0   \n",
       "2                   0.05999  ...          25.53           152.50      1709.0   \n",
       "3                   0.09744  ...          26.50            98.87       567.7   \n",
       "4                   0.05883  ...          16.67           152.20      1575.0   \n",
       "..                      ...  ...            ...              ...         ...   \n",
       "564                 0.05623  ...          26.40           166.10      2027.0   \n",
       "565                 0.05533  ...          38.25           155.00      1731.0   \n",
       "566                 0.05648  ...          34.12           126.70      1124.0   \n",
       "567                 0.07016  ...          39.42           184.60      1821.0   \n",
       "568                 0.05884  ...          30.37            59.16       268.6   \n",
       "\n",
       "     worst smoothness  worst compactness  worst concavity  \\\n",
       "0             0.16220            0.66560           0.7119   \n",
       "1             0.12380            0.18660           0.2416   \n",
       "2             0.14440            0.42450           0.4504   \n",
       "3             0.20980            0.86630           0.6869   \n",
       "4             0.13740            0.20500           0.4000   \n",
       "..                ...                ...              ...   \n",
       "564           0.14100            0.21130           0.4107   \n",
       "565           0.11660            0.19220           0.3215   \n",
       "566           0.11390            0.30940           0.3403   \n",
       "567           0.16500            0.86810           0.9387   \n",
       "568           0.08996            0.06444           0.0000   \n",
       "\n",
       "     worst concave points  worst symmetry  worst fractal dimension  Labels  \n",
       "0                  0.2654          0.4601                  0.11890     0.0  \n",
       "1                  0.1860          0.2750                  0.08902     0.0  \n",
       "2                  0.2430          0.3613                  0.08758     0.0  \n",
       "3                  0.2575          0.6638                  0.17300     0.0  \n",
       "4                  0.1625          0.2364                  0.07678     0.0  \n",
       "..                    ...             ...                      ...     ...  \n",
       "564                0.2216          0.2060                  0.07115     0.0  \n",
       "565                0.1628          0.2572                  0.06637     0.0  \n",
       "566                0.1418          0.2218                  0.07820     0.0  \n",
       "567                0.2650          0.4087                  0.12400     0.0  \n",
       "568                0.0000          0.2871                  0.07039     1.0  \n",
       "\n",
       "[569 rows x 31 columns]"
      ]
     },
     "execution_count": 152,
     "metadata": {},
<<<<<<< HEAD
     "output_type": "execute_result"
=======
     "execution_count": 4
>>>>>>> ea00dd733844b6493defdd3e0cfecd8f4f2c254a
    }
   ],
   "source": [
    "DB = pd.DataFrame(df_all,columns=li_ftrs)\n",
    "DB"
   ]
  },
  {
   "cell_type": "code",
<<<<<<< HEAD
   "execution_count": 153,
   "metadata": {},
   "outputs": [],
   "source": [
    "def pca(X,pc):\n",
    "    ''' Principal Component Regression '''\n",
    "    # Define the PCA object\n",
    "    pca = PCA(n_components=pc, svd_solver='full')\n",
    "    # Preprocess/ Standardize features by removing the mean and scaling to unit variance\n",
    "    Xstd = StandardScaler().fit_transform(X)\n",
    "    # Run PCA producing the reduced variable Xred\n",
    "    Xred = pca.fit_transform(Xstd)[:,:pc]\n",
    "    \n",
    "    #print (pca.explained_variance_)\n",
    "    #print (pca.explained_variance_ratio_)\n",
    "    return(pca.explained_variance_ratio_.sum())\n",
    "    \n",
    "def pcr(X,pc, y):\n",
    "    # Define the PCA object\n",
    "    pca = PCA(n_components=pc, svd_solver='full')\n",
    "    # Preprocess/ Standardize features by removing the mean and scaling to unit variance\n",
    "    Xstd = StandardScaler().fit_transform(X)\n",
    "    # Run PCA producing the reduced variable Xred\n",
    "    Xred = pca.fit_transform(Xstd)[:,:pc]\n",
    "\n",
    "    ''' Step 2: regression on selected principal components'''\n",
    "    # Create linear regression object\n",
    "    regr = linear_model.LinearRegression()\n",
    "    # Fit\n",
    "    regr.fit(Xred, y)\n",
    "    # Predictions\n",
    "    y_c = regr.predict(Xred)\n",
    "    # Calculate R2 scores\n",
    "    score_c = r2_score(y, y_c)\n",
    "    # Calculate mean square error for calibration and cross validation\n",
    "    mse_c = mean_squared_error(y, y_c)\n",
    "    return(score_c, mse_c)"
   ]
  },
  {
   "cell_type": "markdown",
   "metadata": {},
   "source": [
    "#### Normalizing the data"
   ]
  },
  {
   "cell_type": "code",
   "execution_count": 154,
   "metadata": {},
=======
   "execution_count": null,
   "source": [],
   "outputs": [],
   "metadata": {}
  },
  {
   "cell_type": "code",
   "execution_count": 29,
   "source": [
    "def pcr(X_train,X_test,y_train,y_test,pc):\r\n",
    "    # Define the PCA object\r\n",
    "    pca = PCA(n_components=pc, svd_solver='full')\r\n",
    "    # Preprocess/ Standardize features by removing the mean and scaling to unit variance\r\n",
    "    X_trained = StandardScaler().fit_transform(X_train)\r\n",
    "    X_tested = StandardScaler().fit_transform(X_test)\r\n",
    "    # Run PCA producing the reduced variable Xred\r\n",
    "    X_trained_reduced = pca.fit_transform(X_trained)[:,:pc]\r\n",
    "    X_tested_reduced = pca.transform(X_tested)[:,:pc]\r\n",
    "\r\n",
    "    ''' Step 2: regression on selected principal components'''\r\n",
    "    # Create linear regression object\r\n",
    "    regr = linear_model.LinearRegression()\r\n",
    "    # Fit\r\n",
    "    regr.fit(X_trained_reduced, y_train)\r\n",
    "    # Predictions\r\n",
    "    y_c = regr.predict(X_tested_reduced)\r\n",
    "    # Calculate R2 scores\r\n",
    "    score_c = r2_score(y_test, y_c)\r\n",
    "    # Calculate mean square error for calibration and cross validation\r\n",
    "    mse_c = mean_squared_error(y_test, y_c)\r\n",
    "    return(pca.explained_variance_ratio_.sum(), score_c, mse_c)"
   ],
>>>>>>> ea00dd733844b6493defdd3e0cfecd8f4f2c254a
   "outputs": [],
   "source": [
    "X = DB.loc[:, features].values\n",
    "y = DB.loc[:, \"Labels\"].values\n",
    "\n",
    "transfo = Normalizer().fit(X)\n",
    "X = transfo.transform(X)"
   ]
  },
  {
   "cell_type": "code",
<<<<<<< HEAD
   "execution_count": 155,
   "metadata": {},
   "outputs": [],
   "source": [
    "var_explained = []\n",
    "r_sq = []\n",
    "mse = []\n",
    "for pc in range(1,10):\n",
    "    var_explained.append(pca(X,pc))\n",
    "    r_sq.append(pcr(X,pc,y)[0])\n",
    "    mse.append(pcr(X,pc,y)[1])\n",
    "\n"
   ]
  },
  {
   "cell_type": "code",
   "execution_count": 156,
   "metadata": {},
=======
   "execution_count": null,
   "source": [],
   "outputs": [],
   "metadata": {}
  },
  {
   "cell_type": "code",
   "execution_count": 30,
   "source": [
    "X = DB.loc[:, features].values\r\n",
    "y = DB.loc[:, \"Labels\"].values\r\n",
    "\r\n",
    "X_train,X_test,y_train,y_test=train_test_split(X,y,test_size=0.2)\r\n",
    "\r\n",
    "var_explained = []\r\n",
    "r_sq = []\r\n",
    "mse = []\r\n",
    "for pc in range(1,10):\r\n",
    "    var_explained.append(pcr(X_train,X_test,y_train,y_test,pc)[0])\r\n",
    "    r_sq.append(pcr(X_train,X_test,y_train,y_test,pc)[1])\r\n",
    "    mse.append(pcr(X_train,X_test,y_train,y_test,pc)[2])\r\n",
    "\r\n",
    "plt.scatter(range(1,10),var_explained)"
   ],
>>>>>>> ea00dd733844b6493defdd3e0cfecd8f4f2c254a
   "outputs": [
    {
     "data": {
      "image/png": "iVBORw0KGgoAAAANSUhEUgAAAs8AAAHiCAYAAAAXqCHCAAAAOXRFWHRTb2Z0d2FyZQBNYXRwbG90bGliIHZlcnNpb24zLjQuMywgaHR0cHM6Ly9tYXRwbG90bGliLm9yZy/MnkTPAAAACXBIWXMAAAsTAAALEwEAmpwYAABduklEQVR4nO3deZhcZZn///ddS+/d2bqzJySBJBB2bAi7oKKICIxrwI1xQR0R1HEccWZcGGfU+brOiAsCCioggmiQKOhPQFCWdNizkgWyJ93Zel+q6v79UaerqzudpDp05VR1Pq/r6qvqnPNU1V1HTD55+j7PMXdHREREREQOLBJ2ASIiIiIixULhWUREREQkRwrPIiIiIiI5UngWEREREcmRwrOIiIiISI4UnkVEREREcqTwLCJSQMzsZ2b21RzH/sHMPpCHGmaYmZtZbLjfW0Sk2Ck8i4gcBDN72cw6zKw16+f7h7IGd3+zu996KD/TzP5oZtcPsv9SM9vaG7jN7LwggP/rgHG9wbz3nL1sZp8/VPWLiLxaCs8iIgfvre5elfVzddgFHQK3Au81Mxuw/33AL909EWx/ANgJvH8f7zPa3auAdwD/YWYX5KVaEZFhpvAsIjLMzOyHZnZP1vY3zOz/s7TzzGyjmX3BzJqCmdf37ON9xpjZ782s0cx2Bc+nZh1/2Mw+HDy/0sweM7NvBmPXmdmbs8aOMrObzWyLmW0ys6+aWTQ4Fg1e12Rma4G37Ofr/RYYB5yTXSdwMXBbsF1JOhR/AphtZvX7ejN3bwCWAift5zNFRAqGwrOIyPD7Z+D4INCeA3wI+IC7e3B8IlALTCE9Q3ujmc0d5H0iwE+BI4DpQAewv9aQ+cDK4L3/B7g5a4b4Z0ACOAo4GXgj8OHg2EdIh9+TgXrSwXdQ7t4B3EX/GeV3ASvc/blg+21AK/Br4IHgOw7KzE4HjgNW7+d7iYgUDIVnEZGD91sz25318xEAd28n3cbwbeAXwCfdfeOA1/6Hu3e5+yPA/aQDaD/uvsPd73H3dndvAf4LeO1+6nnF3X/i7knS7RWTgAlmNgG4CPiUu7e5+3bgO8CC4HXvAr7r7hvcfSfwtQN871uBd5hZWbD9/mBfrw8AvwrquB1YYGbxAe/RZGYdwOPAD0jPaIuIFDyFZxGRg3eZu4/O+vlJ7wF3fxJYCxjpmdpsu9y9LWv7FWDywDc3swoz+7GZvWJmzcBfgdG97RaD2Jr1+e3B0yrSM9dxYEtv0Ad+DIwPxkwGNgyoZ5/c/TGgCbjMzI4ETiMdkjGzacD5wC+D4b8Dyti7FaQ2qO2fgfOC+kRECp7Cs4hIHpjZJ4BSYDPwuQGHxwR9wb2mB+MG+mdgLjDf3WuAc3vffojlbAC6gNqsoF/j7scGx7cA0wbUcyC3kZ5xfi/wgLtvC/a/j/TfLfeZ2VbS/4AoY5DWDXdPuvu3gU7gn4b4nUREQqHwLCIyzMxsDvBV0sHyfcDnzOykAcO+YmYlQU/0xaT7gweqJt3nvNvMxgJfOph63H0L8CDwLTOrMbOImR1pZr0tIHcB15jZ1ODiv1yWjrsNeAPpfumBLRtfIX0BYO/P24GLzGzcPt7r66TPUdk+jouIFAyFZxGRg3ffgHWe7w3WOf4F8A13f87dXwK+APzczEqD120FdpGebf4l8DF3XzHI+38XKCfdIvEE8MdXUev7gRJgWfDZd5PuiQb4CekL+54DngZ+c6A3c/eXgb8DlcBCyFz8dwRwg7tvzfpZSPqCwMv38Xb3BzV95KC+mYjIIWR9F3+LiEi+mdl5wC/cfeoBhoqISAHSzLOIiIiISI4UnkVEREREcqS2DRERERGRHGnmWUREREQkRwrPIiIiIiI5ioVdwFDU1tb6jBkzwi5DREREREawJUuWNLl73WDHiio8z5gxg4aGhrDLEBEREZERzMxe2dcxtW2IiIiIiORI4VlEREREJEdF1bYhIiIiIuFKpZyuRIrOnmTmsTORpKun/76+Yym6gu2urO3OnhRdifRj5vUDHk+aPpobrjgl7K/cj8KziIiISBFKpZzuZBBQs4LowMfBAm1XVqBNv37wMX3v3Te+O5l6VXWXxSOUxqL9HsviUUpjEapKY4yrjFAabB89sXqYztbwUXgWEREReZXc+2ZjO4LA2dGdnpHt7O7b12+WdsDjvsLvvkJwd+LVhdjSWITSWDq49obX3seKkhhjKoLtQcLuvsLvoI9Z40qiEcxsmM56OBSeRUREZMTqSabSwbU7CLTBLGtH8NM1IOzutS8Yf8BQnEhysDdtLolFKIulZ1sHC6ajyuPpgBrrC6KlWdtlsb3Db29oLRsk7Kbfo/hDbFgUnkVEROSQSqY8K4wmM60BHT3JdDDNBNvBwm5feO0Lu/3HZb9fMnVwibY8CLLl8ShlJVHKYlHKS9L7xlTEKY1HKQ9+esdl9pUMsi+Y3R04S1sSjRCJKMQWE4VnERERyUimnI6eJO3dCTq6k7R3p5+3B8+z93V095+h7coKuekgm+rb190Xag+2Z7Z3hjYdTvsH0tqqkr59mbAbyQq92a8ZPBT3vp9mZWV/FJ5FRESKTCKZor1n7yCbCbg9iX5Bty3reEdWGE6H5P77uobYRxuNWL8Qm5l5jUXT7QbVpZSXZAfdvcelQ2xkv+NKY1GimqGVAqDwLCIikgc9ydRewXSvoNuTpKM7MWBGty/8Dvb6ju7kkGduS6LpYFpREs08VsRjjKkoYeqYKOXxWHpf1vHykhgV8ex9sb1eX14SpSSmW0bI4UXhWUREDmvdiRQtnT20dCZo7UrQ1pXoN6vbMSD49gu6g4bfBB09SXqSQ+u1Ta9wkA6pmQAbj1JbVUJFSUW/8Fs5IMjuHX6zjsejxKIKuCLDReFZRESKUirltHUnMqG3pbOH5s4ErZ29+9KBuO+nJxjX97y5MzGk5b7K44PPzk6siffNyPaG3/jeQbYyKxhnB93yuFoSRIqFwrOIiBxynT3JTJBt7cwKvkEIbu1M0JIVdFsGHutM0NqdOODSYBGDqtIY1WVxqstiVJfFqK0qYWZtJVXBdk1ZPBgTo6o0RmVprF9rQkVp+nlZLKpVEURE4VlERHKXSjmt3Vmzt72zul1ZIbc38HbtPePbOz6Xnt2yeCQdenuDbVmMuqqqzPPsY9Vl8UwYrs4KyxUlUa2aICLDSuFZROQw0Hv3s8HaF1o6+7c+tGTN+rYOON7alTjgZ0WMdJgt7ZvZHV9dxpF1sb1mgdOzvVnbwfOqshhx9emKSAHKW3g2swuB7wFR4CZ3//qA40cAtwB1wE7gve6+MV/1iIiMJD3JFLvautnR1s2O1m52tHXR1NrNzrYudrR29z1v686E5FwuYCuPR/tmcIOZ3Qk1ZQcOvWV9x8vjmu0VkZErL+HZzKLADcAFwEZgsZktdPdlWcO+Cdzm7rea2euArwHvy0c9IiKFLpVydnf0sKO1NwTvHYh3tHbT1NbFzrZudrf3DPo+0YgxtrKEcZUl1FaVMnVMBTXlscxMcE1ZrN+scFUwM1xdlu711WyviMj+5Wvm+TRgtbuvBTCzO4FLgezwPA/4TPD8IeC3eapFROSQc3eaOxPpEBwE4h1tXexsTc8WN7V2BceC/W3dDHYXYTMYU5EOw2MrSzhmYg3jqtLPx1WVUhs8jq0sobaqhJqyuC5qExHJo3yF5ynAhqztjcD8AWOeA95GurXjH4BqMxvn7juyB5nZVcBVANOnT89TuSIiB9benQhaIvqCb9OAQLwja9Z4X20S6RUfShlXWcKM2gpOOWIMtVVBQB4QiMdUxLVGr4hIAQnzgsHPAt83syuBvwKbgOTAQe5+I3AjQH19/dBWnBcR2Y+uRLIvBA8IxJkQnNVG0dGz1x9RAFSURIPZ4FImjSrjuCk1jK0sTQfiqhLGVfbODJcypjJOaSx6iL+piIgMl3yF503AtKztqcG+DHffTHrmGTOrAt7u7rvzVI+IHAYSyRQ727v7BeIde/UPpwPxjtZuWvaxckRJNJIOvUEgPrKuKtjua4/oDcTjqkqoKNHCRSIih4t8/Ym/GJhtZjNJh+YFwBXZA8ysFtjp7ingOtIrb4iIDGpnWzcrt7awprGVxpaufoF4RzBrvCuHi+jGVZVwwtTRfSF4QCAeV1VCVWlMq0WIiMig8hKe3T1hZlcDD5Bequ4Wd19qZtcDDe6+EDgP+JqZOem2jU/koxYRKS4tnT2s2tbKqm0trNzawkvbW1i5tZWm1q5+48ZUxDPBd+7E6kzwHRf0C/cG5XGVpYwq10V0IiIyPMwPdG/TAlJfX+8NDQ1hlyEiw6CjO8nq7a2s3NbCS9taWLmthVVbW9i8pzMzpqIkyuwJ1cydUMWcCdXMmVDN7AlV1FWV6iI6ERHJGzNb4u71gx1To56I5FV3IsXaptb0bPLWICRva2H9znZ6/+1eEotwVF0Vp80cy5yJ1cwNgvKU0eWaMRYRkYKi8CwiwyKZcl7Z0Ra0W6TbLlZta2FdUxuJYAHjaMSYWVvJcZNH8baTpzJnQhVzJlZzxNgKzSSLiEhRUHgWkSFJpZxNuzvSIXlbCy9ta2Xl1hZWN7bSnUgB6Rt7TB9bwZwJ1bzx2AnMmVDN3InVzKyt1DJtIiJS1BSeRWRQ7s72lq7MhXvpsNzK6m0ttHX3rXc8eVQZsydUc/bs2qAvuYqjxldp+TYRERmR9LebiLCzrTvTZrFyazCbvK2FPR19S7/VVpUwZ0I176yfFswkVzF7QjU1ZfEQKxcRETm0FJ5FDiPZy8D1heX+y8DVlMWYM6Gat5wwKXPh3pwJVYyrKg2xchERkcKg8CwyAvUuA5cJyEFv8qbdHZkx5fEocyZUcf7cOuZOrA6WhKtmQk2pbhAiIiKyDwrPIkWsO5FiXVNbZo3k3rD8SvYycNEIR46v4tQZY7hiwnTmBhfvaRk4ERGRoVN4FikC2cvArQr6kVdtHXwZuHmTa7js5CnMnZCeTZ4xTsvAiYiIDBeFZ5EC0rsMXO8tqXtnkldvb6UrWAYO9l4Gbs6EambVaRk4ERGRfFN4FgmJu7NiawuPr9nByq0tmdtUZy8DNylYBu7MI8dl1krWMnAiIiLh0d/AIodQa1eCv61u4uGV23loRSNbmzsBGFfZfxm4ORPSy8CNKtcycCIiIoVE4Vkkj9ydNY1t6bC8cjtPrdtJT9KpKo1xzuxazp87nnPm1DJpVHnYpYqIiEgOFJ5FhllHd5LH1zbx0IpGHlq5nY270svDzZlQxQfPmsl5c8fzmiPGUBLTRXwiIiLFRuFZZBi8sqONh1Zs56GVjTy+dgfdiRTl8ShnHVXLx887kvPmjmfKaM0ui4iIFLu8hWczuxD4HhAFbnL3rw84Ph24FRgdjPm8uy/KVz0iw6mzJ8lT63by8MpGHl65nbVNbQDMqq3kvfOP4Pyj6zh1xljK4lr9QkREZCTJS3g2syhwA3ABsBFYbGYL3X1Z1rB/B+5y9x+a2TxgETAjH/WIDIeNu9ozYflvq3fQ0ZOkNBbhjCPH8f4zjuC8ueOZUVsZdpkiIiKSR/maeT4NWO3uawHM7E7gUiA7PDtQEzwfBWzOUy0iB6U7kaLhlZ08sjLdu7xqWysAU8eU8876qZw/dzynzxpHeYlml0VERA4X+QrPU4ANWdsbgfkDxnwZeNDMPglUAm8Y7I3M7CrgKoDp06cPe6Ei2bY1d2aWkXtsdROtXQniUWP+zHG8q34a580dz5F1lZjpttYiIiKHozAvGLwc+Jm7f8vMzgB+bmbHuXsqe5C73wjcCFBfX+8h1CkjWCKZ4tkNu3koCMzLtjQD6ZuTvPXEyZw/t44zj6qlqlTX1oqIiEj+wvMmYFrW9tRgX7YPARcCuPvjZlYG1ALb81STCABNrV2ZVoy/rmqkuTNBNGLUHzGGf73waM4/uo65E6o1uywiIiJ7yVd4XgzMNrOZpEPzAuCKAWPWA68HfmZmxwBlQGOe6pHDWCrlPL9pDw+t2M7DK7fz/KY9uENddSlvOnYi5x89nrOOqtXd/EREROSA8hKe3T1hZlcDD5Behu4Wd19qZtcDDe6+EPhn4Cdm9mnSFw9e6e5qy5Bhsbu9m0dWNfLIykYeWdXIjrZuIgYnTRvNZ94wh/OPHs+8STVEIppdFhERkdzlrZEzWLN50YB9X8x6vgw4K1+fL4cXd2fp5ubgNtiNPLN+FymHsZUlvHZOHefNrePc2XWMqSwJu1QREREpYroKSopWc2cPj73UxMMrt/Pwyka2t3QBcMLUUVz9utmcP7eOE6aOJqrZZRERERkmCs9SNNydVdtag5UxtrPklV0kUk5NWYxz59Rx/tzxnDunjrrq0rBLFRERkRFK4VkKWltXgr+v2cFDK7fz8IrtbN7TCcAxk2q46txZnH/0eE6eNppYNBJypSIiInI4UHiWguLurG1qC1bGaOSpdTvpTqaoKo1x9lG1XPuGOl47ZzwTR5WFXaqIiIgchhSeJXSdPUkeX7uDh1ekL/Zbv7MdgNnjq7jyrBmcN7eO+iPGUhLT7LKIiIiES+FZQrF+R3u6d3nldh5fs4OuRIryeJSzjhrHR86dxXlz6pg2tiLsMkVERET6UXiWQ6IrkWTxul2ZwLy2sQ2AmbWVXDF/OufPHc9pM8dSFo+GXKmIiIjIvik8S95s2t2RWUbub6ubaO9OUhKLcMascbzv9CM4b+54ZtZWhl2miIiISM4UnmVYbdzVzs+feIWHVzSyclsLAFNGl/P2U6Zy/tF1nDGrlvISzS6LiIhIcVJ4lmHR0Z3kh4+s4cePrCHlzqkzxvJvrzmG84+u48i6Ksx0oxIREREpfgrP8qq4O/e/sIX/vn85m/d08tYTJ3Pdm49m8ujysEsTERERGXYKz3LQlm1u5iv3LeXJdTs5ZlIN33n3ScyfNS7sskRERETyRuFZhmxXWzff+tNKbn9yPaPK4/zXPxzHglOnE42oNUNERERGNoVnyVkimeL2p9bzrQdX0dqV4P1nzOBTb5jN6IqSsEsTEREROSTyFp7N7ELge0AUuMndvz7g+HeA84PNCmC8u4/OVz3y6vx9TRPX37eMFVtbOPPIcXzprccyd2J12GWJiIiIHFJ5Cc9mFgVuAC4ANgKLzWyhuy/rHePun84a/0ng5HzUIq/Oxl3t/Pei5Sx6YStTRpfzo/eewpuOnajVM0REROSwlK+Z59OA1e6+FsDM7gQuBZbtY/zlwJfyVIschI7uJD96ZA0/emQNZvCZC+Zw1bmzdAdAEREROazlKzxPATZkbW8E5g820MyOAGYCf8lTLTIE7s6iF7by34uWs2l3BxefMInrLjqGKVp6TkRERKQgLhhcANzt7snBDprZVcBVANOnTz+UdR12lm9p5ssL+5ae+9a7TuR0LT0nIiIikpGv8LwJmJa1PTXYN5gFwCf29UbufiNwI0B9fb0PV4HSZ1dbN9/+0yp++eQr1JTH+eplx3H5aVp6TkRERGSgfIXnxcBsM5tJOjQvAK4YOMjMjgbGAI/nqQ7Zj0QyxR1Predbf1pFc0cP7zv9CD59wRwtPSciIiKyD3kJz+6eMLOrgQdIL1V3i7svNbPrgQZ3XxgMXQDc6e6aUT7EHl+zg6/ct5QVW1s4Y9Y4vnTJPI6eWBN2WSIiIiIFLW89z+6+CFg0YN8XB2x/OV+fL4PbuKudry1awf0vbGHK6HJ++J5TuPA4LT0nIiIikotCuGBQDoHOnvTScz98OL303KffMIePvlZLz4mIiIgMhcLzCOfu/OHFrfzX/eml595ywiS+oKXnRERERA6KwvMItmJreum5J9bu5OiJ1dx51elaek5ERETkVVB4HoF2t6eXnvvFE+ml5/7zsuO4/NRpxKKRsEsTERERKWoKzyNIMuXc/tR6vvXgSpo7enjv6UfwGS09JyIiIjJsFJ5HiCfW7uDLC9NLz50+ayxfeuuxHDNJS8+JiIiIDCeF5yK3aXcH/71oOfc/n1567gfvOYU3a+k5ERERkbxQeC5SnT1JfvzIWn74yGrc4VNvmM1Hzz2S8hItPSciIiKSLwrPRcbd+eOLW/lq79Jzx0/iuouOZuqYirBLExERERnxFJ6LyIqtzXxl4TIeX7uDoydWc8dHTueMI7X0nIiIiMihovBcBHa3d/OdP63iF0+up7osxn9eeiyXnzZdS8+JiIiIHGIKzwUsmXLuCJae29PRw3vmp5eeG1OppedEREREwqDwXKCeXLuDL9+3jOVbmpk/cyxfvkRLz4mIiIiETeG5wGwOlp77fbD03A1XnMJFx2vpOREREZFCoPBcIDp7ktz417X84OH00nPXvn42H3utlp4TERERKSR5C89mdiHwPSAK3OTuXx9kzLuALwMOPOfuV+SrnkLl7jywNL303MZdHVx0/ES+cNExWnpOREREpADlJTybWRS4AbgA2AgsNrOF7r4sa8xs4DrgLHffZWbj81FLIVu5tYWv3LeUv69JLz13+0fmc+aRtWGXJSIiIiL7kK+Z59OA1e6+FsDM7gQuBZZljfkIcIO77wJw9+15qqXg7Gnv4Tt/XsXPn3iFqtIY1196LFdo6TkRERGRgpev8DwF2JC1vRGYP2DMHAAz+xvp1o4vu/sf81RPQUimnDsXr+ebD6SXnrti/nT++YK5WnpOREREpEiEecFgDJgNnAdMBf5qZse7++7sQWZ2FXAVwPTp0w9xicPnqXU7+fLCpSzb0sxpM8fy5bcey7zJWnpOREREpJjkKzxvAqZlbU8N9mXbCDzp7j3AOjNbRTpML84e5O43AjcC1NfXe57qzZvNuzv42h9WcN9zm5k8qozvX3Eybzl+kpaeExERESlC+QrPi4HZZjaTdGheAAxcSeO3wOXAT82slnQbx9o81XPIdfYk+clf1/KDh9eQcuea18/m41p6TkRERKSo5SU8u3vCzK4GHiDdz3yLuy81s+uBBndfGBx7o5ktA5LAv7j7jnzUcyill57bxlfvX8bGXR28+bj00nPTxmrpOREREZFiZ+7F0wlRX1/vDQ0NYZexT6u2pZee+9vqHcydUM2X3jqPM4/S0nMiIiIixcTMlrh7/WDHdIfBYTBw6bmvXHIs75mvpedERERERhqF51chmXJ+tXgD33xwJbvbu7li/nQ+c8FcxmrpOREREZERSeH5IC1+Ob303NLN6aXnvvTWeRw7eVTYZYmIiIhIHik8D9GWPR18bdEKFgZLz/3f5Sdz8Qlaek5ERETkcKDwnKPOniQ3PbqWGx5aQ1JLz4mIiIgclhSeD8DdeXBZeum5DTu19JyIiIjI4Uzh+QC+9eAqvv/QauZMqOL2D8/X0nMiIiIihzGF5wO47OTJ1FWXauk5EREREVF4PpCjxldz1PjqsMsQERERkQKgqVQRERERkRwpPIuIiIiI5EjhWUREREQkR+buYdeQMzNrBF4J4aNrgaYQPrdY6XwNjc7X0OmcDY3O19DofA2NztfQ6HwNTVjn6wh3rxvsQFGF57CYWYO714ddR7HQ+Roana+h0zkbGp2vodH5Ghqdr6HR+RqaQjxfatsQEREREcmRwrOIiIiISI4UnnNzY9gFFBmdr6HR+Ro6nbOh0fkaGp2vodH5Ghqdr6EpuPOlnmcRERERkRxp5llEREREJEcKz/thZreY2XYzezHsWoqBmU0zs4fMbJmZLTWza8OuqZCZWZmZPWVmzwXn6yth11QMzCxqZs+Y2e/DrqXQmdnLZvaCmT1rZg1h11PozGy0md1tZivMbLmZnRF2TYXKzOYG/131/jSb2afCrquQmdmngz/rXzSzO8ysLOyaCpmZXRucq6WF9t+W2jb2w8zOBVqB29z9uLDrKXRmNgmY5O5Pm1k1sAS4zN2XhVxaQTIzAyrdvdXM4sBjwLXu/kTIpRU0M/sMUA/UuPvFYddTyMzsZaDe3bWmbA7M7FbgUXe/ycxKgAp33x1yWQXPzKLAJmC+u4dxL4aCZ2ZTSP8ZP8/dO8zsLmCRu/8s3MoKk5kdB9wJnAZ0A38EPubuq0MtLKCZ5/1w978CO8Ouo1i4+xZ3fzp43gIsB6aEW1Xh8rTWYDMe/Ohfs/thZlOBtwA3hV2LjCxmNgo4F7gZwN27FZxz9npgjYLzAcWAcjOLARXA5pDrKWTHAE+6e7u7J4BHgLeFXFOGwrPkhZnNAE4Gngy5lIIWtCA8C2wH/uTuOl/7913gc0Aq5DqKhQMPmtkSM7sq7GIK3EygEfhp0BZ0k5lVhl1UkVgA3BF2EYXM3TcB3wTWA1uAPe7+YLhVFbQXgXPMbJyZVQAXAdNCrilD4VmGnZlVAfcAn3L35rDrKWTunnT3k4CpwGnBr6pkEGZ2MbDd3ZeEXUsROdvdTwHeDHwiaEWTwcWAU4AfuvvJQBvw+XBLKnxBe8slwK/DrqWQmdkY4FLS/0ibDFSa2XvDrapwufty4BvAg6RbNp4FkmHWlE3hWYZV0Lt7D/BLd/9N2PUUi+DXww8BF4ZcSiE7C7gk6OO9E3idmf0i3JIKWzDbhbtvB+4l3T8og9sIbMz67c/dpMO07N+bgafdfVvYhRS4NwDr3L3R3XuA3wBnhlxTQXP3m939Ne5+LrALWBV2Tb0UnmXYBBfA3Qwsd/dvh11PoTOzOjMbHTwvBy4AVoRaVAFz9+vcfaq7zyD9a+K/uLtmbvbBzCqDC3cJ2g/eSPpXoTIId98KbDCzucGu1wO62PnALkctG7lYD5xuZhXB35WvJ31dkOyDmY0PHqeT7ne+PdyK+sTCLqCQmdkdwHlArZltBL7k7jeHW1VBOwt4H/BC0McL8AV3XxReSQVtEnBrcKV6BLjL3bX8mgyXCcC96b+niQG3u/sfwy2p4H0S+GXQirAW+MeQ6ylowT/KLgA+GnYthc7dnzSzu4GngQTwDAV457wCc4+ZjQN6gE8U0gW8WqpORERERCRHatsQEREREcmRwrOIiIiISI4UnkVEREREcqTwLCIiIiKSI4VnEREREZEcKTyLiIiIiORI4VlEREREJEcKzyIiIiIiOVJ4FhERERHJkcKziIiIiEiOFJ5FRERERHKk8CwiIiIikiOFZxERERGRHCk8i4iIiIjkSOFZRERERCRHCs8iIiIiIjlSeBYRERERyZHCs4iIiIhIjhSeRURERERypPAsIiIiIpIjhWcRERERkRwpPIuIiIiI5EjhWUREREQkRwrPIiIjhJm9bGYdZtZqZlvN7GdmVmVm08zsbjO738zuNbOysGsVESlWCs8iIiPLW929CjgJOBm4Dtjo7u9w97cAJcDsEOsTESlqCs8iIiOQu28FHgBOcncHMLOLgD3u/kKoxYmIFDGFZxGREcjMpgJvBlYH25cB7wH+McSyRESKngUTEiIiUuTM7GWgFnCgCvgL8HZgAvBcsJ0CvujuT4dUpohIUYuFXYCIiAyry9z9z2b2WuB2oNbdVwK6SFBEZBiobUNEZARy90eAnwHfDLkUEZERReFZRGTk+i5wgZmdGHYhIiIjhcKziMgI5e6NwG3AF8OuRURkpNAFgyIiIiIiOdLMs4iIiIhIjhSeRURERERypPAsIiIiIpIjhWcRERERkRwpPIuIiIiI5Kio7jBYW1vrM2bMCLsMERERERnBlixZ0uTudYMdK6rwPGPGDBoaGsIuQ0RERERGMDN7ZV/H1LYhIiIiIpIjhWcRERERkRwVVduGiIiIiIwMnT1JGlu6aGztoinz2E1jayeNLV00tXYzZ0IVX3vbCWGX2o/Cs4iIiIgMi+5EiqbWLppau4IAnH7sDcPZ+1q6EoO+x+iKOHVVpdRVl1JbVXqIv8GBKTyLiIiIyD4lkil2tnWzvSU7FHfvPWvc2sXu9p5B36O6LJYJw8dMruHcTDguoa66lLqqMmqrSxhXWUpJrLC7ivMWns3sQuB7QBS4yd2/PuD4d4Dzg80KYLy7j85XPSIiIiKSlko5O9u7c5oh3tnejfve71FREg2CbylH1VVxxqxx1AahODsY11aVUhaPHvovmSd5Cc9mFgVuAC4ANgKLzWyhuy/rHePun84a/0ng5HzUIiIiInI4cHf2dPRkZoT7zRC39G+l2NHWTTK1dyIujUUygXfa2ApOnj4mE4brssJwbVUplaWHZwNDvr71acBqd18LYGZ3ApcCy/Yx/nLgS3mqRURERKQouTstXYl0a0QmDHdmXVzXPxT3JPcOxPGoZWaEJ44q4/gpo7Jmhsv6ZoirS6kujWFmIXzT4pGv8DwF2JC1vRGYP9hAMzsCmAn8JU+1iIiIiBSU9u5E/3aJfcwQN7Z00ZVI7fX6aMQYV1mSCcWzx1fv1S7Re9HdqPK4AvEwKoT59gXA3e6eHOygmV0FXAUwffr0Q1mXiIiIFCl3J5FyEkmnO5kikUzRk3R6kil6kikSKac7kX7s3deT9GBc39i9Xp9K0ZNwEqlUsN8HjN//5/S2VbR37x17zGBsRV9rxMzayr16h3sfx1SUEI0oEIchX+F5EzAta3tqsG8wC4BP7OuN3P1G4EaA+vr6QdrVRURE5FDqTqRo6eyhuTNBZ09yHwEzO5j2BcvuwQJqJmCmg2lP6gBBtt+4vgDbPeAz88kM4tEI8YgRj0WIRSKURI1YNEI8aulj0Qix4HlZPEJVaYwjxlVmLcPWF4rHV5cytrKEWLSwV5qQ/IXnxcBsM5tJOjQvAK4YOMjMjgbGAI/nqQ4REREZIJFM0dKZoLmzh+aO3sce9nT07LWvuTOx17GOnkF/WXxQ4lEjFtk7cJZkBc9YNAimkQg1JfF0YB1kXDwIrrHe55lga5QEAXd/n9N7LHtc35j+r9Ws7+ErL+HZ3RNmdjXwAOml6m5x96Vmdj3Q4O4Lg6ELgDvdB1sARURERAaTTDmtQfgdNPBmhd7BAnLbIC0D2aIRo6YsRk15nJqyODXlMY6qrso8H1Uep6Y8TnVZjPJ4NB02Y/3DanaYHTgL2xdSTb24UnSsmHJrfX29NzQ0hF2GiIjIq5JKOW3diXTwHWSWNxOK93GstSsx6Lq7vcygurQv/KbDbiwIv/H+Ibh3X9bxypKoQq0c1sxsibvXD3asEC4YFBERKSruTnt3sn/Izczy7icEB7PALZ09DLLEbj+94bc6mAGeMrqcYyZV9w+8ZYME5PI4VSUxImorEMkLhWcRETksJJIpOnqSdPak6OxJ0tGTpKM7GexLZva1ZILv/meBB7vBRLaKkmi/UDuxpow5E6oHD7wDZoSry+LqqRUpUArPIiISGnenJ+l0JpJ0BkG2N+B2dCf7hdzORLLfvs6eIAz3e12Sjp7UXvs6e5JDXn2hLB7pN8M7rqqEWXWVmYCbHXgHhuDqshhxrZogMiIpPIuIyF7c00uCdXanBgTTvrDaG17778t6HDCus18I7pv9PdAM7mAiBhUlMcriEcriUcrjUcpLopTFo4wqjzOxpjSzrzSWfiwPxmVek7WvNOtYdRCOS2PRPJxZESl2Cs8iUlTcnZRDyh0PHqH/tgOeAqf/WA+O9RvrpH+Csb3vT2Z78M860NhBPyuoP73d9/rBxvb/Tn2v84Gf1e89B3yvYGzXoOF1YNhNDZjVTR6wJ3cw8ahRFo/2Bdp4lLKSKGWxCGMrSygf3T+slpdEgtAa7ReC02Mi/bazXxePapUGEQmHwrOIFKwdrV0s39LCsi17WLa5mWVbmlnT2HZQM5WHu5JYhLJYJBNEs8Pq+Op41r5Iv1ncsiGE3LJ4VK0KIjLiKTyLSOhSKeeVne1BQN6TDsybm9na3JkZM2lUGfMm1fC6oydQURLFILOaQMQMs/Sv8o30czMLttPjjN59+xlr6ffq/559r83ejkT6Xr/fscFnQe9n2IDP7v/6oYwdtC5Lf+lI1tjSWFQXn4mIDBOFZxE5pDp7kqzc2sKyLc2Z2eTlW5ppD27aEI0YR9VVccaR45g3qYZ5k2s4ZlINYytLQq5cRERE4VlE8qiptSsTkHsf1za2Znppq0pjzJtUw7vqp2WC8lHjqyiL60ItEREpTArPIvKqJVPOyzvaWLY5PYvcG5a3t3RlxvTe4OGi4yYyb3IN8yaNYuqYct3IQUREiorCs4gMSUd3khVb+88mr9jSQkdPuu0iFjGOGl/F2bNrM7PJ8ybVMLpCbRciIlL8FJ5FZJ+2t3T2a7tYvqWZdU1tmbaL6rJ028WC09JtF8dMqmH2hCqtjysiIiOWwrOIkEw565paWRasctEblpta+7ddzJtcw8UnTM7MJk8dU661dkVE5LCi8CxymGnrSrBiwGoXK7c209mTAtI3uZg9vprz5tb1rXYxsYZRFfGQKxcREQlf3sKzmV0IfA+IAje5+9cHGfMu4MuAA8+5+xX5qkfkcOPubG/JWu1iSzPLNzezbkcbwQ3sGFUeZ96kGq447YjMbPJR46soielGFyIiIoPJS3g2syhwA3ABsBFYbGYL3X1Z1pjZwHXAWe6+y8zG56MWkcNBIpliXVNbv9nkZZub2dHWnRkzbWw58ybVcOlJU9JBeXINk0eVqe1CRERkCPI183wasNrd1wKY2Z3ApcCyrDEfAW5w910A7r49T7WIjCitXQlWbGke0HbRQlci3XZREo0wZ2IVrz9mfNB2MYqjJ1VTU6a2CxERkVcrX+F5CrAha3sjMH/AmDkAZvY30q0dX3b3P+apHpGi4+5sbe7ca+3kl3e0Z8aMrki3Xbzv9CMys8lH1lURj6rtQkREJB/CvGAwBswGzgOmAn81s+PdfXf2IDO7CrgKYPr06Ye4RJFDoyeZYm1jG8u27OnXdrGrvScz5ohxFcybVMPbT5maCcoTa9R2ISIicijlKzxvAqZlbU8N9mXbCDzp7j3AOjNbRTpML84e5O43AjcC1NfXe57qFTkk2rsTrG1sY11TW/DYyurGVlZta6W7t+0iFuHoidW86dj0nfiOmVTD0ROrqVbbhYiISOjyFZ4XA7PNbCbp0LwAGLiSxm+By4Gfmlkt6TaOtXmqR+SQSaacjbvaWZsVkNc2pp9vbe7sN3bK6HJm1VVy5ZkzMsvCzaqtJKa2CxERkYKUl/Ds7gkzuxp4gHQ/8y3uvtTMrgca3H1hcOyNZrYMSAL/4u478lGPyHBzd3a2dWdmkNNBuZW1TW2s39FOdzKVGVtTFmNWXRVnHjmOWXWVzKytYlZdJTPGVVJeojvxiYiIFBNzL55OiPr6em9oaAi7DDmMdPYkeXlHW6bVYk1ja+b5no6+fuR41DhiXCUzayuZVVfJkbVVzKyrZFZtJWMrS9SXLCIiUkTMbIm71w92THcYlMNeKuVs3tMRtFa0pmeTgxnlzXs6yP735cSaMmbWVnLxCZOYVVfFrCAsTxldrlYLERGRw4DCsxw29rT3sKaptV8f8rqm9E/vGskAVaUxZtZWUj9jDDNrp2ZC8szaSipL9X8ZERGRw5mSgIwoXYkk63f0XayXPZO8M+tue9GIMX1sBbNqKzlndm2mD3lWbSV11aVqsxAREZFBKTxL0em9eUj2hXq9F+5t3NVOKqvNoraqlFl1lbzp2AnpfuSgF3n62ArdSERERESGTOFZClZLZ0/WmsitWUu/tdHRk8yMK49HmVlbyQlTR3HZSZOZVVfFzNpKZtZV6pbUIiIiMqwUniVUPckU63e2s66xjbVNrcGKFumA3NjSlRkXMZg6poJZdZXMnzW238V6E6rLiETUZiEiIiL5p/AseefuNLZ07XXTkHVNbazf2U4iq89ibGUJs2orOW9OXWYG+ci6SqaPq6A0pjWRRUREJFwKzzKsOnuS/Hn5NtZs75tJXtfYRktXIjOmNBZhZm0lcydW8+bjJ/a7WG90RUmI1YuIiIjsn8KzDJuXtrXwidufZtW2Vsxg8qj0raffdsqU4OYh6ZA8eVS52ixERESkKCk8y6vm7vy6YSNfXPgiVaUxfvL+es6ZXUtZXG0WIiIiMrIoPMur0tqV4N/vfYHfPruZM48cx3fffRLja8rCLktEREQkLxSe5aC9uGkPn7zjGV7Z0cY/XzCHfzr/KKJqxxAREZERTOFZhszdue3xV/iv+5cztrKEOz5yOvNnjQu7LBEREZG8U3iWIdnT3sPn7nmOB5Zu43VHj+eb7zyRsZVaIUNEREQODwrPkrOn1+/ik7c/w7bmTv79LcfwwbNmatUMEREROaxE8vXGZnahma00s9Vm9vlBjl9pZo1m9mzw8+F81SKvTirl/OiRNbzrR48TicDdHz+TD58zS8FZREREDjt5mXk2syhwA3ABsBFYbGYL3X3ZgKG/cver81GDDI8drV185q7neGRVIxcdP5Gvve0ERpXHwy5LREREJBT5ats4DVjt7msBzOxO4FJgYHiWAvb4mh1ce+cz7O7o4auXHcd75k/HTLPNIiIicvjKV9vGFGBD1vbGYN9Abzez583sbjObNtgbmdlVZtZgZg2NjY35qFUGSKac7/55Fe+56QmqSmP89p/O4r2nH6HgLCIiIoe9vPU85+A+YIa7nwD8Cbh1sEHufqO717t7fV1d3SEt8HC0rbmT99z0BN/980tcdvIU7vvk2cybXBN2WSIiIiIFIV9tG5uA7JnkqcG+DHffkbV5E/A/eapFcvTwyu185q7n6OhO8s13nsg7XjM17JJERERECkq+wvNiYLaZzSQdmhcAV2QPMLNJ7r4l2LwEWJ6nWuQAepIpvvnASn7817UcPbGa719xCkeNrwq7LBEREZGCk5fw7O4JM7saeACIAre4+1Izux5ocPeFwDVmdgmQAHYCV+ajFtm/DTvbuebOZ3hm/W7eM386/3HxPMri0bDLEhERESlI5u5h15Cz+vp6b2hoCLuMEeOPL27hc3c/jzt8/e0n8JYTJoVdkoiIiEjozGyJu9cPdkx3GDwMdfYk+dqi5dz6+CucMHUU37/8FKaPqwi7LBEREZGCp/B8mFnb2MrVtz/Dsi3NfPjsmXzuwqMpiYW56IqIiIhI8VB4Poz89plN/Nu9LxCPRbjp/fW8Yd6EsEsSERERKSoKz4eB9u4EX/rdUn69ZCOnzhjD9xaczOTR5WGXJSIiIlJ0FJ5HuJVbW/jE7U+zprGVT77uKK59/WxiUbVpiIiIiBwMhecRyt25c/EGvrxwKdVlcX7+wfmcPbs27LJEREREiprC8wjU0tnDF+59kfue28zZR9Xy7XefyPjqsrDLEhERESl6Cs8jzAsb93D1HU+zcVcH//KmuXz8tUcSiVjYZYmIiIiMCArPI4S787O/v8x/L1pObVUpd151OqfOGBt2WSIiIiIjisLzCLC7vZt/uft5/rRsG284Zjz/7x0nMqayJOyyREREREYchecit+SVnXzy9mdobO3iPy6exwfPmoGZ2jRERERE8kHhuUilUs4PH1nDt/+0iimjy7nn42dywtTRYZclIiIiMqIpPBehxpYuPnPXszz6UhNvOWESX3vb8dSUxcMuS0RERGTEU3guMn9b3cSnfvUszR09/Pc/HM/lp01Tm4aIiIjIIZK3W82Z2YVmttLMVpvZ5/cz7u1m5mZWn69aRoJEMsW3H1zJe29+kpqyGL+7+iyumD9dwVlERETkEMrLzLOZRYEbgAuAjcBiM1vo7ssGjKsGrgWezEcdI8WWPR1ce8ezPPXyTt7xmqlcf+mxVJTolwYiIiIih1q+EthpwGp3XwtgZncClwLLBoz7T+AbwL/kqY6i95cV2/jnu56jK5Hi2+86kbedMjXskkREREQOW/lq25gCbMja3hjsyzCzU4Bp7n7//t7IzK4yswYza2hsbBz+SgtUdyLFV3+/jA/+rIGJo8q575NnKziLiIiIhCyU3/2bWQT4NnDlgca6+43AjQD19fWe38oKw4ad7Vx9+9M8t3EP7zv9CP7tLcdQFo+GXZaIiIjIYS9f4XkTMC1re2qwr1c1cBzwcHDB20RgoZld4u4NeaqpKCx6YQv/es/zAPzwPafw5uMnhVyRiIiIiPTKV3heDMw2s5mkQ/MC4Ireg+6+B6jt3Tazh4HPHs7BubMnyVfvX8YvnljPidNG8/3LT2ba2IqwyxIRERGRLHkJz+6eMLOrgQeAKHCLuy81s+uBBndfmI/PLVart7dy9e1Ps2JrC1edO4vPvnEuJbG8rSIoIiIiIgcpbz3P7r4IWDRg3xf3Mfa8fNVR6H7z9Eb+/bcvUhqL8NMrT+X8o8eHXZKIiIiI7IMWCw5JW1eCL/5uKfc8vZHTZo7lewtOYtKo8rDLEhEREZH9UHgOwfItzVx9+9OsbWrjmtfP5prXHUUsqjYNERERkUKn8HwIuTu/fHI91/9+GaPK4/zyQ/M586jaA79QRERERAqCwvMh0tzZw3X3vMD9L2zhnNm1fOfdJ1FbVRp2WSIiIiIyBArPh8BzG3Zz9R1Ps3l3J5+7cC4fO/dIIhELuywRERERGSKF5zxyd25+bB3f+OMKxleXcddHT+c1R4wNuywREREROUgKz3myq62bz/76Of6/Fdu5YN4E/t87TmB0RUnYZYmIiIjIq6DwnAdPrdvJtXc+w47Wbr781nl84MwZBLchFxEREZEipvA8jJIp54cPr+bbf1rFtLEV3PPxMzl+6qiwyxIRERGRYaLwPEy2t3TymV89x2Orm3jriZP57384juqyeNhliYiIiMgwUngeBo++1Minf/UsrV0Jvv6243n3qdPUpiEiIiIyAik8vwqJZIrv/HkVP3h4DUfVVfHLD5/O3InVYZclIiIiInmi8HyQNu/u4Jo7nqHhlV28u34aX77kWMpLomGXJSIiIiJ5pPB8EP68bBufvfs5ehIpvrfgJC49aUrYJYmIiIjIIRDJ1xub2YVmttLMVpvZ5wc5/jEze8HMnjWzx8xsXr5qGS7diRTX37eMD9/WwJTR5fz+mnMUnEVEREQOI3mZeTazKHADcAGwEVhsZgvdfVnWsNvd/UfB+EuAbwMX5qOe4fDKjjY+ecczPL9xD1eeOYPrLjqa0pjaNEREREQOJ/lq2zgNWO3uawHM7E7gUiATnt29OWt8JeB5quVVu++5zVz3mxeIGPzova/hwuMmhl2SiIiIiIQgX+F5CrAha3sjMH/gIDP7BPAZoAR4XZ5qeVW+/5eX+OaDqzh5+mj+d8HJTBtbEXZJIiIiIhKSUC8YdPcbgBvM7Arg34EPDBxjZlcBVwFMnz790BYIvGHeBNq6k3zmgjnEo3lrERcRERGRIpCv8LwJmJa1PTXYty93Aj8c7IC73wjcCFBfX3/IWzuOnljD0RfWHOqPFREREZEClK+p1MXAbDObaWYlwAJgYfYAM5udtfkW4KU81SIiIiIiMizyMvPs7gkzuxp4AIgCt7j7UjO7Hmhw94XA1Wb2BqAH2MUgLRsiIiIiIoUkbz3P7r4IWDRg3xeznl+br88WEREREckHcy/YFeL2YmaNwCshfHQt0BTC5xYrna+h0fkaOp2zodH5Ghqdr6HR+Roana+hCet8HeHudYMdKKrwHBYza3D3+rDrKBY6X0Oj8zV0OmdDo/M1NDpfQ6PzNTQ6X0NTiOdLa6+JiIiIiORI4VlEREREJEcKz7m5MewCiozO19DofA2dztnQ6HwNjc7X0Oh8DY3O19AU3PlSz7OIiIiISI408ywiIiIikiOF5/0ws1vMbLuZvRh2LcXAzKaZ2UNmtszMlpqZ1vLeDzMrM7OnzOy54Hx9JeyaioGZRc3sGTP7fdi1FDoze9nMXjCzZ82sIex6Cp2ZjTazu81shZktN7Mzwq6pUJnZ3OC/q96fZjP7VNh1FTIz+3TwZ/2LZnaHmZWFXVMhM7Nrg3O1tND+21Lbxn6Y2blAK3Cbux8Xdj2FzswmAZPc/WkzqwaWAJe5+7KQSytIZmZApbu3mlkceAy41t2fCLm0gmZmnwHqgRp3vzjsegqZmb0M1Lu71pTNgZndCjzq7jeZWQlQ4e67Qy6r4JlZFNgEzHf3MO7FUPDMbArpP+PnuXuHmd0FLHL3n4VbWWEys+OAO4HTgG7gj8DH3H11qIUFNPO8H+7+V2Bn2HUUC3ff4u5PB89bgOXAlHCrKlye1hpsxoMf/Wt2P8xsKvAW4Kawa5GRxcxGAecCNwO4e7eCc85eD6xRcD6gGFBuZjGgAtgccj2F7BjgSXdvd/cE8AjwtpBrylB4lrwwsxnAycCTIZdS0IIWhGeB7cCf3F3na/++C3wOSIVcR7Fw4EEzW2JmV4VdTIGbCTQCPw3agm4ys8qwiyoSC4A7wi6ikLn7JuCbwHpgC7DH3R8Mt6qC9iJwjpmNM7MK4CJgWsg1ZSg8y7AzsyrgHuBT7t4cdj2FzN2T7n4SMBU4LfhVlQzCzC4Gtrv7krBrKSJnu/spwJuBTwStaDK4GHAK8EN3PxloAz4fbkmFL2hvuQT4ddi1FDIzGwNcSvofaZOBSjN7b7hVFS53Xw58A3iQdMvGs0AyzJqyKTzLsAp6d+8Bfunuvwm7nmIR/Hr4IeDCkEspZGcBlwR9vHcCrzOzX4RbUmELZrtw9+3AvaT7B2VwG4GNWb/9uZt0mJb9ezPwtLtvC7uQAvcGYJ27N7p7D/Ab4MyQaypo7n6zu7/G3c8FdgGrwq6pl8KzDJvgAribgeXu/u2w6yl0ZlZnZqOD5+XABcCKUIsqYO5+nbtPdfcZpH9N/Bd318zNPphZZXDhLkH7wRtJ/ypUBuHuW4ENZjY32PV6QBc7H9jlqGUjF+uB082sIvi78vWkrwuSfTCz8cHjdNL9zreHW1GfWNgFFDIzuwM4D6g1s43Al9z95nCrKmhnAe8DXgj6eAG+4O6LwiupoE0Cbg2uVI8Ad7m7ll+T4TIBuDf99zQx4HZ3/2O4JRW8TwK/DFoR1gL/GHI9BS34R9kFwEfDrqXQufuTZnY38DSQAJ6hAO+cV2DuMbNxQA/wiUK6gFdL1YmIiIiI5EhtGyIiIiIiOVJ4FhERERHJkcKziIiIiEiOFJ5FRERERHKk8CwiIiIikiOFZxERERGRHCk8i4iIiIjkSOFZRERERCRHCs8iIiIiIjlSeBYRERERyZHCs4iIiIhIjhSeRURERERypPAsIiIiIpIjhWcRERERkRwpPIuIiIiI5EjhWUREREQkRwrPIiIiIiI5UngWEREREcmRwrOIiIiISI4UnkVEREREcqTwLCIiIiKSI4VnEREREZEcKTyLiIiIiORI4VlEpMiY2ctm1m1mtQP2P2NmbmYzzGyqmd1jZk1mtsfMXjSzK4NxM4JxrQN+3h3KFxIRKSKxsAsQEZGDsg64HPg/ADM7HqjIOv5z4DngCKALOB6YOOA9Rrt7Iv+lioiMHJp5FhEpTj8H3p+1/QHgtqztU4GfuXubuyfc/Rl3/8MhrVBEZARSeBYRKU5PADVmdoyZRYEFwC8GHL/BzBaY2fRQKhQRGYEUnkVEilfv7PMFwHJgU9axdwKPAv8BrDOzZ83s1AGvbzKz3Vk/xxySqkVEiph6nkVEitfPgb8CM+nfsoG77wI+D3w+uLDwm8BvzWxq1rBa9TyLiAyNZp5FRIqUu79C+sLBi4Df7GdcE+nwPBkYe2iqExEZmRSeRUSK24eA17l7W/ZOM/uGmR1nZjEzqwY+Dqx29x2hVCkiMkIoPIuIFDF3X+PuDYMcqgDuBXYDa0kvWXfJgDG7B6zz/Jn8VisiUvzM3cOuQURERESkKGjmWUREREQkRwrPIiIiIiI5UngWEREREcmRwrOIiIiISI4UnkVEREREclRUdxisra31GTNmhF2GiIiIiIxgS5YsaXL3usGOFVV4njFjBg0Ngy1nKiIiIiIyPMzslX0dU9uGiIiIiEiOFJ5zoBvJiIiIiAgoPB/QX1Zs4/23PMX2ls6wSxERERGRkCk8H8Du9h6eWreTi773GI+91BR2OSIiIiISIoXnA3jbKVP53dVnMboizvtueZJvPrCSRDIVdlkiIiIiEgKF5xwcPbGGhVefxTtfM5XvP7Say3/yBFv2dIRdloiIiIgcYgrPOaooifE/7ziR77z7RJZububN33uUPy/bFnZZIiIiInIIKTwP0T+cPJXff/JsJo8q58O3NfCfv19Gd0JtHCIiIiKHA4XngzCrrorf/NOZvP+MI7j5sXW840d/Z/2O9rDLEhEREZE8U3g+SGXxKNdfehw/eu8prGtq4y3/+yi/f35z2GWJiIiISB4pPL9KFx43iUXXnMOR46u4+vZn+MK9L9DZkwy7LBERERHJA4XnYTBtbAW//tgZfPTcWdz+5Houu+FvrN7eGnZZIiIiIjLMFJ6HSTwa4bqLjuGn/3gq21u6eOv/PcbdSzaGXZaIiIiIDKOcwrOZXWhmK81stZl9fpDj55rZ02aWMLN3DDiWNLNng5+FWftnmtmTwXv+ysxKXv3XCd/5c8ez6JpzOGHqKD776+f4zF3P0taVCLssERERERkGBwzPZhYFbgDeDMwDLjezeQOGrQeuBG4f5C063P2k4OeSrP3fAL7j7kcBu4APHUT9BWniqDJu/8jpXPv62dz7zCbe+v3HWLa5OeyyRERERORVymXm+TRgtbuvdfdu4E7g0uwB7v6yuz8P5LTgsZkZ8Drg7mDXrcBluRZdDKIR49MXzOGXH55Pa2eCy37wN37+xCu4e9iliYiIiMhByiU8TwE2ZG1vDPblqszMGszsCTO7LNg3Dtjt7r39DEN9z6Jx5pG1LLr2HM6YNY7/+O2LfOL2p9nT0RN2WSIiIiJyEA7FBYNHuHs9cAXwXTM7cigvNrOrgvDd0NjYmJ8K86y2qpSfXnkqn3/z0TywdBtv+d9HeXbD7rDLEhEREZEhyiU8bwKmZW1PDfblxN03BY9rgYeBk4EdwGgzix3oPd39Rnevd/f6urq6XD+24EQixsdeeyR3ffQM3OEdP/w7P/nrWlIptXGIiIiIFItcwvNiYHawOkYJsABYeIDXAGBmY8ysNHheC5wFLPN04+9DQO/KHB8AfjfU4ovRa44Yw6JrzuH1x4znvxYt58O3NbCzrTvsskREREQkBwcMz0Ff8tXAA8By4C53X2pm15vZJQBmdqqZbQTeCfzYzJYGLz8GaDCz50iH5a+7+7Lg2L8CnzGz1aR7oG8ezi9WyEZVxPnRe1/DVy45lsdeauKi7z3Kk2t3hF2WiIiIiByAFdPqD/X19d7Q0BB2GcPqxU17uPr2p1m/s51Pv2EO/3T+UUQjFnZZIiIiIoctM1sSXLO3F91hMGTHTRnF7685h7eeOJlv/WkV77v5SbY3d4ZdloiIiIgMQuG5AFSVxvjuu0/if95+Ak+v38VF//sof11VnCuLiIiIiIxkCs8Fwsx416nTWHj12YytLOH9tzzF//xxBYlkTvedEREREZFDQOG5wMyZUM3vPnE2C06dxg8eXsO7b3yCTbs7wi5LRERERFB4LkjlJVG+/vYT+N6Ck1ixpZmLvvcof1q2LeyyRERERA57Cs8F7NKTpnD/NecwbWw5H7mtga/ct5SuRDLsskREREQOWwrPBW5GbSX3fPxMrjxzBj/928u8/Yd/5+WmtrDLEhERETksKTwXgdJYlC9fciw/ft9r2LCzg4v/7zEWPrc57LJEREREDjsKz0XkTcdOZNG15zBnQhXX3PEM1/3meTq61cYhIiIicqgoPBeZKaPL+dVHz+Dj5x3JHU9t4NIbHuOlbS1hlyUiIiJyWFB4LkLxaIR/vfBobv3gaexo7eat33+MuxZvoJhutS4iIiJSjBSei9hr59Txh2vP4ZTpY/jcPc/z6V89S2tXIuyyREREREYsheciN76mjJ9/aD6fuWAOC5/bzFv/7zGWbt4TdlkiIiIiI5LC8wgQjRjXvH42t3/kdNq7E/zDDX/ntsdfVhuHiIiIyDBTeB5BTp81jkXXnMNZR43ji79bysd+sYQ97T1hlyUiIiIyYig8jzDjqkq5+QOn8m8XHcP/t3w7F/3vozy9flfYZYmIiIiMCDmFZzO70MxWmtlqM/v8IMfPNbOnzSxhZu/I2n+SmT1uZkvN7Hkze3fWsZ+Z2Tozezb4OWlYvpEQiRgfOXcWv/7YGZjBu370OD9+ZA2plNo4RERERF6NA4ZnM4sCNwBvBuYBl5vZvAHD1gNXArcP2N8OvN/djwUuBL5rZqOzjv+Lu58U/Dx7UN9A9unk6WO4/5pzuGDeBL72hxV88NbF7GjtCrssERERkaKVy8zzacBqd1/r7t3AncCl2QPc/WV3fx5IDdi/yt1fCp5vBrYDdcNSueRkVHmcH7znFP7z0mP5+5odXPS/j/L4mh1hlyUiIiJSlHIJz1OADVnbG4N9Q2JmpwElwJqs3f8VtHN8x8xK9/G6q8yswcwaGhsbh/qxApgZ7ztjBvf+05lUlsR4z01P8N0/ryKpNg4RERGRITkkFwya2STg58A/unvv7PR1wNHAqcBY4F8He6273+ju9e5eX1enSetX49jJo7jvk2dz2UlT+O6fX+K9Nz3JtubOsMsSERERKRq5hOdNwLSs7anBvpyYWQ1wP/Bv7v5E73533+JpXcBPSbeHSJ5Vlsb49rtP4pvvPJFnN+zmou89ysMrt4ddloiIiEhRyCU8LwZmm9lMMysBFgALc3nzYPy9wG3ufveAY5OCRwMuA14cQt3yKr3jNVO575NnUVtVypU/XczX/rCcnmTqwC8UEREROYwdMDy7ewK4GngAWA7c5e5Lzex6M7sEwMxONbONwDuBH5vZ0uDl7wLOBa4cZEm6X5rZC8ALQC3w1eH8YnJgR42v5ndXn8UV86fz40fW8q4fP87GXe1hlyUiIiJSsKyYbuFcX1/vDQ0NYZcxIv3++c1cd88LmMH/e+eJvOnYiWGXJCIiIhIKM1vi7vWDHdMdBgWAi0+YzP3XnMOM2ko++vMlfOl3L9LZkwy7LBEREZGCovAsGdPHVXD3x87kQ2fP5NbHX+HtP/w765rawi5LREREpGAoPEs/JbEI/3HxPG56fz2bdndw8f8+yu+ezXlxFREREZERTeFZBvWGeRNYdM05HDOphmvvfJZ/vft5OrrVxiEiIiKHN4Vn2afJo8u586rTufr8o7hryQYu+f5jrNrWEnZZIiIiIqFReJb9ikUjfPZNc/n5B+ezq72HS77/GHc+tZ5iWqVFREREZLgoPEtOzp5dy6Jrz+Y1R4zh8795gWvufJaWzp6wyxIRERE5pBSeJWfjq8u47YPz+ewb53D/85u5+P8e48VNe8IuS0REROSQUXiWIYlGjKtfN5tfffQMuhMp3vaDv/PTv61TG4eIiIgcFhSe5aCcOmMsi645h3Nm1/KV+5bx0Z8vYXd7d9hliYiIiOSVwrMctDGVJdz0gXr+4+J5PLRyO2/538dY8srOsMsSERERyRuFZ3lVzIwPnT2Tuz92JpEIvOvHT/DtP62i4eWd7GzrVjuHiIiIjChWTOGmvr7eGxoawi5D9qG5s4frfvMC9z+/JbNvVHmcWXWVzKyt5Mi6KmbWVjKrrpIZ4yopi0dDrFZERERkcGa2xN3rBz2m8CzDbcPOdlY3trK2sY21ja2sa2pjbWMbW5s7M2PMYPKocmbVVTKrtpJZdVWZkD15VDmRiIX4DURERORwtr/wHDvUxcjIN21sBdPGVnD+3P7727oSrGtqy4TptU3pYH3P05to7UpkxpXGIpkZ6pm1lcyqrQpCdhWjKuKH+NuIiIiI9FF4lkOmsjTGcVNGcdyUUf32uzuNrV2sbewN1ulZ6xVbWnhw6TYSqb7fjoyrLMkK1ulQfWRdJdPGVlAaUxuIiIiI5FdO4dnMLgS+B0SBm9z96wOOnwt8FzgBWODud2cd+wDw78HmV9391mD/a4CfAeXAIuBaL6YeEhk2Zsb46jLGV5dx+qxx/Y71JFNs2Nneb6Z6TWMbD61s5K6GjZlxEUvPePfOVM+sq+TI2kpm1lUysaYMM7WBiIiIyKt3wPBsZlHgBuACYCOw2MwWuvuyrGHrgSuBzw547VjgS0A94MCS4LW7gB8CHwGeJB2eLwT+8Gq/kIws8Wgk6IeuAib0O9bc2cO67NnqoB3kybU76ehJZsZVlESZWRu0gNRVBT3W6e3qMrWBiIiISO5ymXk+DVjt7msBzOxO4FIgE57d/eXgWGrAa98E/MnddwbH/wRcaGYPAzXu/kSw/zbgMhSeZQhqyuKcOG00J04b3W+/u7O1uTOYre67aPH5jXtY9MIWsrpAqKsuzYTpWbV9q4FMG1tBPKqVHEVERKS/XMLzFGBD1vZGYH6O7z/Ya6cEPxsH2b8XM7sKuApg+vTpOX6sHM7MjEmjypk0qpyzjqrtd6wrkWT9jnbWZM1Yr2tq44Gl29jZ1vefaixiTB9b0XfRYtYye3VVpWoDEREROUwV/AWD7n4jcCOkl6oLuRwpcqWxKLMnVDN7QvVex3a3d2daP9Y1tWYuYHz0pSa6En2/VKkujTEzWGKv96LF3mBdUVLw/5cSERGRVyGXv+k3AdOytqcG+3KxCThvwGsfDvZPPcj3FMmL0RUlnDK9hFOmj+m3P5VyNu3u6DdTvbapjcUv7+J3z20m+zLXiTVl/Ware9exnjqmgqjWrhYRESl6uYTnxcBsM5tJOuAuAK7I8f0fAP7bzHrTyBuB69x9p5k1m9nppC8YfD/wf0MrXeTQiEQss3b1uXPq+h3r7ElmrV3dd9Hifc9tprmzb+3qkmiE6eMq0rPVdZUcmTVjPbayRG0gIiIiReKA4dndE2Z2NekgHAVucfelZnY90ODuC83sVOBeYAzwVjP7irsfG4Tk/yQdwAGu7714EPgn+paq+wO6WFCKUFk8yjGTajhmUk2//e7OzrZ0G8i6xjbWNLWyLriA8aGV2+lJ9k1Xj66Ic/TEauZNGsW8yTXMm1TDUeOrKInpgkUREZFCo9tzixxiiWSKTbs7MquBrN7eyvItzazY2kxnT7q3Oh41Zo+v5phJNZlAPW9Sje6wKCIicgjo9twiBSQWjXDEuEqOGFfJ+Vn7kylnXVMby7Y0s2xzM8u2NPPIqkbuebpvYZopo8v7wnTwOHVMudo+REREDhGFZ5ECEY0YR42v4qjxVVxy4uTM/u0tnSzf0pIJ1Ms27+HPy7dlLlSsLoulZ6izAvXsCVW6XbmIiEgeKDyLFLjeW5e/NutixfbuBCu3tvSbpf7V4g2ZOyvGgiCe3fJxzKQaxlSWhPU1RERERgSFZ5EiVFES4+TpYzg5a1m9ZMp5ZUf/to/HXmriN0/3rQI5eVTZgLaPUUwdU05Ey+iJiIjkROFZZISIRixYW7qKi0/oa/tobOli+ZZmlm9pzgTrv6zYnrlNeXVpLFgxpDoTqGdPqKIsrrYPERGRgRSeRUa4uupS6qrr+q1R3dmT3Kvt49dLNtL+eLrtIxoxjqrra/voXfVjrNo+RETkMKfwLHIYKotHOXHaaE6cNjqzL5Vy1u9s7xeoH1+zg3uf6Wv7mFgzsO2jhuljK9T2ISIihw2FZxEB0ndSnFFbyYzaSi46flJm/47WrvRqH1v2ZFb9eGRVI8mg76OyJJqZme5d9WPuxGq1fYiIyIik8Cwi+zWuqpSzZ5dy9uzazL7OniQvbWtl2ZY9mVnq3zy9idauVwCIGByZ1fbRG6xrq0rD+hoiIiLDQuFZRIasLB7l+KmjOH7qqMy+VMrZsKs9fWFiEKgXr9vJ757dnBkzvrp0r7aPGeMq1fYhIiJFQ+FZRIZFJGKZOydeeFxf28eutu5+K330LqGXCNo+KkqiHD2xb6WPYyZVc/TEGspL1PYhIiKFx7z3NmVFoL6+3hsaGsIuQ0Repa5Eb9tHX6BevrmZlq4EkG77mFlbybzJo/rNUtdVq+1DRETyz8yWuHv9YMc08ywih1xpLMpxU0Zx3JS+tg93Z+OuDpZu7luT+ulXdnHfc31tH3XVpcydkL4Y0Swdsg0jEkk/moGZBfshYuknEbPMdiQCEIzJOmZm/bYjkYH7g89K7+y33dt2Ehkwdq969npP26vO7Lr6v+e+6hzss3rfJ/1YGo9SHo9SFo+kH0vS2/FoJO//W4uIjDQKzyJSEMyMaWMrmDa2gguPm5jZv6e9Jz1DHcxSr25sZWdbN6ngt2Ypd9yDR8A9HcRTDo6TSqW3vd9YgGCM9z26M2Bc73vu/RkjQTRiQaiOUl4SyTwvC8J2JnCXDNzXF8AHC+X9xpZEKIlGMFNfu4iMDArPIlLQRlXEOePIcZxx5LiwS8nYV9CGQYJ3KgjxA0J9OuSnx/W+xn3vsX0hP4fPyvrHQfax7kSKjp4kHd1JOnqSdAY/6X3pY12928G43R09bN3TmdnX2Z2kM5GkJzn0fzlEjEygTgf1rMDdG7RLopTFov2C+r6Ce3lJpP/7Ba8vjSmki0j+5RSezexC4HtAFLjJ3b8+4HgpcBvwGmAH8G53f9nM3gP8S9bQE4BT3P1ZM3sYmAR0BMfe6O7bX82XERE5FHpbJwCiHF5hrSeZygTvzu4UnYm+UN4vhAehPBPU+43pC/MtnQkaW7qywnySzp4U3cnUQdW3v5nwTHCPpUP5YPvK4lGqy2KMKo9TUxanJngsiyuYi0jaAcOzmUWBG4ALgI3AYjNb6O7LsoZ9CNjl7keZ2QLgG6QD9C+BXwbvczzwW3d/Nut173F3XQEoIlIk4tEI8WiE6rJ4Xj8nmfIBgTodqrNnx7sGBPf07HhqkH1J2rsT7GjrHjDrnqQrkVtIj0etL0yXx6kpi2WCdU15LHNs1D6O6aZBIiNHLjPPpwGr3X0tgJndCVwKZIfnS4EvB8/vBr5vZub9l/K4HLjzVVcsIiIjXjRiVJbGqCzNb3dhKuV0JrKCeXeCls4EzZ0Jmjt6aO7sobkjwZ7M857MsU27O2juSD8/0Ex5SSwySLDu2x41SBDPHlsS08WdIoUilz+VpgAbsrY3AvP3NcbdE2a2BxgHNGWNeTfpkJ3tp2aWBO4BvurFtG6eiIgUvUjEqCiJUVFy8O/h7nQlUpmwvacjsVfQzg7izZ097G7vZv3O9nQo7+jJrHu+L+Xx6KDBevDQ3bc9qjxOdVmMmFZWERk2h+SCQTObD7S7+4tZu9/j7pvMrJp0eH4f6b7pga+9CrgKYPr06YeiXBERkZyZWWaVkvE1ZUN+vbvT0ZPMBOu+EN6TmdnODt7NnT00tnaxprEtM/4A2ZvKkuigwfrALShxqspiRHUXUJGMXMLzJmBa1vbUYN9gYzaaWQwYRfrCwV4LgDuyX+Dum4LHFjO7nXR7yF7h2d1vBG6E9E1ScqhXRESkaJj1zn7HmDjq4MJ3W3dy7zaTgaE7K5Rv2dPJym0tNHf00NKVOODyi9Wl6YCduZgyK2yXxaPEI0Y8GiEWjRCPWqY3PhY1SoLHeNaxWCRCScyIRSL99sdjkaz36nsfhXcpJLmE58XAbDObSTokLwCuGDBmIfAB4HHgHcBfelswzCwCvAs4p3dwELBHu3uTmcWBi4E/v8rvIiIictgxM6pKY1SVxphM+ZBfn0o5rd3pGe7MbPfAtpMBvd8bdrbT0pne7jrIJQyHImIQi0b6B/GIEY9FiEX6QnY8anuPO0Bg32tcNEJJNBg3IMyX5PIPhEiEeOZzTKu0jEAHDM9BD/PVwAOkl6q7xd2Xmtn1QIO7LwRuBn5uZquBnaQDdq9zgQ29FxwGSoEHguAcJR2cfzIs30hERERyFokEK4mUxZk65uDew91JpJxE0ulOpkgkU/QknZ5kip5kikQqvd54ItW3ryfpwbi+sXu9PpWiJ+EkUqlgvw8Yn34+8DPbuxN7fea+ajtQy8urFRsQvqvLYtRVl1JXXUptVSl1VaXUVqcf66rTz2urSiiNaYWWQmXFdI1efX29NzRoZTsREREZHsnecJ1yehKpdGAfJNhnB/x+/wBIpQb8w6Av2HcPeJ/uZPrC0saWLppau2hs6aK5MzFoXTUDQ3bWY2/QrqsuZWxlCXFdEDrszGyJu9cPdkx3GBQREZHDVjRiRCPBLG/pof/8zp4kO9q604G6pYvG1qzHIGC/uGkPTa3dtHYNHrTHVpZQW1WSCdZ7he3g+djKEvWPDwOFZxEREZGQlMWjTBldzpTRB+5X7+hO0tTaxfaWrn6z172Pja1dLFm/K7hr595rj0cMxlZmB+qSfjPZ2TPbo8rjRBS0B6XwLCIiIlIEykuiTBtbwbSxFfsd17sCS79gPUjYXr2thabW7kFv8hOLGLVVpdRWl+wVrgc+1pTFDqsLIxWeRUREREaQ7BVYZtZW7nesu9PckaAxa/Z6YPtIY2sXy7Y009TaTXKQKyxLYpGsCx+z2keq974gMt93DT0Uiv8biIiIiMhBMTNGVcQZVRHnqPFV+x2bSjm7B1zwOLBtZOOuDp7dsJsdbd2Drh9eHo/2axkZ2Jed3UZSFi/MFUcUnkVERETkgCIRY2xlCWMrS5hL9X7HJpIpdrZ309TSnZnVHtg2sq6pjafW7WRXe8+g71FdGuPcuXXccMUp+fg6B03hWURERESGVSwaYXx1GeOrD3zXzO5Eip29K45kzWI3tnQxefTQ77qZbwrPIiIiIhKakliEiaPKDur29GHQqtoiIiIiIjlSeBYRERERyZHCs4iIiIhIjswHW0ekQJlZI/BKCB9dCzSF8LnFSudraHS+hk7nbGh0voZG52todL6GRudraMI6X0e4e91gB4oqPIfFzBrcvT7sOoqFztfQ6HwNnc7Z0Oh8DY3O19DofA2NztfQFOL5UtuGiIiIiEiOFJ5FRERERHKk8JybG8MuoMjofA2NztfQ6ZwNjc7X0Oh8DY3O19DofA1NwZ0v9TyLiIiIiORIM88iIiIiIjlSeN4PM7vFzLab2Yth11IMzGyamT1kZsvMbKmZXRt2TYXMzMrM7Ckzey44X18Ju6ZiYGZRM3vGzH4fdi2FzsxeNrMXzOxZM2sIu55CZ2ajzexuM1thZsvN7IywaypUZjY3+O+q96fZzD4Vdl2FzMw+HfxZ/6KZ3WFmxXEv6pCY2bXBuVpaaP9tqW1jP8zsXKAVuM3djwu7nkJnZpOASe7+tJlVA0uAy9x9WcilFSQzM6DS3VvNLA48Blzr7k+EXFpBM7PPAPVAjbtfHHY9hczMXgbq3V1ryubAzG4FHnX3m8ysBKhw990hl1XwzCwKbALmu3sY92IoeGY2hfSf8fPcvcPM7gIWufvPwq2sMJnZccCdwGlAN/BH4GPuvjrUwgKaed4Pd/8rsDPsOoqFu29x96eD5y3AcmBKuFUVLk9rDTbjwY/+NbsfZjYVeAtwU9i1yMhiZqOAc4GbAdy9W8E5Z68H1ig4H1AMKDezGFABbA65nkJ2DPCku7e7ewJ4BHhbyDVlKDxLXpjZDOBk4MmQSyloQQvCs8B24E/urvO1f98FPgekQq6jWDjwoJktMbOrwi6mwM0EGoGfBm1BN5lZZdhFFYkFwB1hF1HI3H0T8E1gPbAF2OPuD4ZbVUF7ETjHzMaZWQVwETAt5JoyFJ5l2JlZFXAP8Cl3bw67nkLm7kl3PwmYCpwW/KpKBmFmFwPb3X1J2LUUkbPd/RTgzcAnglY0GVwMOAX4obufDLQBnw+3pMIXtLdcAvw67FoKmZmNAS4l/Y+0yUClmb033KoKl7svB74BPEi6ZeNZIBlmTdkUnmVYBb279wC/dPffhF1PsQh+PfwQcGHIpRSys4BLgj7eO4HXmdkvwi2psAWzXbj7duBe0v2DMriNwMas3/7cTTpMy/69GXja3beFXUiBewOwzt0b3b0H+A1wZsg1FTR3v9ndX+Pu5wK7gFVh19RL4VmGTXAB3M3Acnf/dtj1FDozqzOz0cHzcuACYEWoRRUwd7/O3ae6+wzSvyb+i7tr5mYfzKwyuHCXoP3gjaR/FSqDcPetwAYzmxvsej2gi50P7HLUspGL9cDpZlYR/F35etLXBck+mNn44HE66X7n28OtqE8s7AIKmZndAZwH1JrZRuBL7n5zuFUVtLOA9wEvBH28AF9w90XhlVTQJgG3BleqR4C73F3Lr8lwmQDcm/57mhhwu7v/MdySCt4ngV8GrQhrgX8MuZ6CFvyj7ALgo2HXUujc/Ukzuxt4GkgAz1CAd84rMPeY2TigB/hEIV3Aq6XqRERERERypLYNEREREZEcKTyLiIiIiORI4VlEREREJEcKzyIiIiIiOVJ4FhERERHJkcKziIiIiEiOFJ5FRERERHKk8CwiIiIikqP/H2hXcJSmAagEAAAAAElFTkSuQmCC\n",
      "text/plain": [
<<<<<<< HEAD
       "<Figure size 864x576 with 3 Axes>"
=======
       "<matplotlib.collections.PathCollection at 0x20db65d5be0>"
      ]
     },
     "metadata": {},
     "execution_count": 30
    },
    {
     "output_type": "display_data",
     "data": {
      "image/png": "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",
      "text/plain": [
       "<Figure size 432x288 with 1 Axes>"
>>>>>>> ea00dd733844b6493defdd3e0cfecd8f4f2c254a
      ]
     },
     "metadata": {
      "needs_background": "light"
     },
     "output_type": "display_data"
    }
   ],
   "source": [
    "fig, axs = plt.subplots(3, sharex=False, sharey=False, figsize = (12,8), gridspec_kw={\"hspace\" : .5})\n",
    "tmp = axs[0].plot(range(1,10),var_explained)\n",
    "\n",
    "tmp = axs[1].plot(range(1,10),r_sq)\n",
    "\n",
    "tmp = axs[2].plot(range(1,10),mse)\n",
    "_ = axs[0].set_title('Explained VAR')\n",
    "_ = axs[1].set_title('R²')\n",
    "_ = axs[2].set_title('MSE')"
   ]
  },
  {
   "cell_type": "code",
<<<<<<< HEAD
   "execution_count": 157,
   "metadata": {},
=======
   "execution_count": 31,
   "source": [
    "plt.scatter(range(1,10),r_sq)"
   ],
>>>>>>> ea00dd733844b6493defdd3e0cfecd8f4f2c254a
   "outputs": [
    {
     "data": {
      "text/plain": [
<<<<<<< HEAD
       "Text(0.5, 1.0, 'KMeans clustering plot')"
=======
       "<matplotlib.collections.PathCollection at 0x20db662abb0>"
>>>>>>> ea00dd733844b6493defdd3e0cfecd8f4f2c254a
      ]
     },
     "execution_count": 157,
     "metadata": {},
<<<<<<< HEAD
     "output_type": "execute_result"
=======
     "execution_count": 31
>>>>>>> ea00dd733844b6493defdd3e0cfecd8f4f2c254a
    },
    {
     "data": {
<<<<<<< HEAD
      "image/png": "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\n",
=======
      "image/png": "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",
>>>>>>> ea00dd733844b6493defdd3e0cfecd8f4f2c254a
      "text/plain": [
       "<Figure size 432x288 with 2 Axes>"
      ]
     },
     "metadata": {
      "needs_background": "light"
     },
     "output_type": "display_data"
    }
   ],
   "source": [
    "#1 KMeans Clustering >> k=2 i.e. either Malignant or Benign\n",
    "km = KMeans(n_clusters=2, init=\"k-means++\", n_init=10)\n",
    "km_pred = km.fit_predict(X)\n",
    "\n",
    "# Scatter plots\n",
    "f, (ax1, ax2) = plt.subplots(1, 2, sharey=True)\n",
    "\n",
    "ax1.scatter(X[:,0], X[:,1], c=y, cmap=\"jet\", edgecolor=\"None\", alpha=0.35)\n",
    "ax1.set_title(\"Actual clusters\")\n",
    "\n",
    "ax2.scatter(X[:,0], X[:,1], c=km_pred, cmap=\"jet\", edgecolor=\"None\", alpha=0.35)\n",
    "ax2.set_title(\"KMeans clustering plot\")"
   ]
  },
  {
   "cell_type": "markdown",
   "metadata": {},
   "source": [
    "### KNN Classification"
   ]
  },
  {
   "cell_type": "markdown",
   "metadata": {},
   "source": [
    "First do a PCA to have the two best 2 representative axis. This is for comparision purpose."
   ]
  },
  {
   "cell_type": "code",
<<<<<<< HEAD
   "execution_count": 158,
   "metadata": {},
   "outputs": [],
   "source": [
    "def PCA_projector(n_axis, X):\n",
    "    pca = PCA(n_components=n_axis)\n",
    "    X_transformed = pca.fit_transform(X)\n",
    "    return X_transformed"
   ]
=======
   "execution_count": 32,
   "source": [
    "plt.scatter(range(1,10),mse)"
   ],
   "outputs": [
    {
     "output_type": "execute_result",
     "data": {
      "text/plain": [
       "<matplotlib.collections.PathCollection at 0x20db6680d30>"
      ]
     },
     "metadata": {},
     "execution_count": 32
    },
    {
     "output_type": "display_data",
     "data": {
      "image/png": "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",
      "text/plain": [
       "<Figure size 432x288 with 1 Axes>"
      ]
     },
     "metadata": {
      "needs_background": "light"
     }
    }
   ],
   "metadata": {}
>>>>>>> ea00dd733844b6493defdd3e0cfecd8f4f2c254a
  },
  {
   "cell_type": "code",
   "execution_count": 159,
   "metadata": {},
   "outputs": [],
   "source": [
    "X = PCA_projector(2, X)"
   ]
  },
  {
   "cell_type": "code",
<<<<<<< HEAD
   "execution_count": 160,
   "metadata": {},
   "outputs": [],
   "source": [
    "number_of_knns = [1, 6, 30, 200]"
   ]
  },
  {
   "cell_type": "code",
   "execution_count": 161,
   "metadata": {},
   "outputs": [],
   "source": [
    "def knn_creator(number_of_knns, X, y):\n",
    "    num_model = len(number_of_knns)\n",
    "    models = []\n",
    "    for i in range(num_model):\n",
    "        mod = KNeighborsClassifier(n_neighbors=number_of_knns[i])\n",
    "        mod.fit(X, y)\n",
    "        models.append(mod)\n",
    "    return models\n",
    "\n"
   ]
  },
  {
   "cell_type": "code",
   "execution_count": 162,
   "metadata": {},
   "outputs": [],
   "source": [
    "models_knn = knn_creator(number_of_knns, X, y)"
   ]
  },
  {
   "cell_type": "code",
   "execution_count": 163,
   "metadata": {},
   "outputs": [],
   "source": [
    "cmap_light = ListedColormap(['orange', 'cyan'])\n",
    "cmap_bold = ['darkorange', 'c']\n",
    "\n",
    "def plot_decision_boundary(X, y, models, per_row=4, **kwargs):\n",
    "    n_models = len(models)\n",
    "    n_row_plot = 2#(n_models/per_row)\n",
    "    \n",
    "    fig, axs = plt.subplots(n_row_plot, per_row, **kwargs)\n",
    "    X1, X2 = np.meshgrid(\n",
    "        np.arange(start = X[:,0].min()-1, stop = X[:,0].max() + 1, step = .02),\n",
    "        np.arange(start = X[:,1].min()-1, stop = X[:,1].max() + 1, step = .02),\n",
    "    )\n",
    "    for i, model in enumerate(models):\n",
    "        ax = axs[i//per_row, i%per_row]\n",
    "        Z = model.predict(np.c_[X1.ravel(), X2.ravel()])\n",
    "    \n",
    "        Z = Z.reshape(X1.shape)\n",
    "        ax.contourf(X1, X2, Z, cmap=cmap_light, alpha = .5)\n",
    "    \n",
    "        sns.scatterplot(x=X[:, 0], y=X[:, 1],\n",
    "                    palette=cmap_bold, alpha=.8, edgecolor=\"black\", ax = ax)\n",
    "        ax.set_xlim(X1.min(), X1.max())\n",
    "        ax.set_ylim(X2.min(), X2.max())\n",
    "        ax.set_title(f\"{model.get_params()['n_neighbors']} - NN\")\n",
    "    \n",
    "    "
   ]
  },
  {
   "cell_type": "code",
   "execution_count": 164,
   "metadata": {},
   "outputs": [
    {
=======
   "execution_count": 168,
   "source": [
    "#1 KMeans Clustering >> k=2 i.e. either Malignant or Benign\r\n",
    "km = KMeans(n_clusters=2, init=\"k-means++\", n_init=10)\r\n",
    "km_pred = km.fit_predict(X)\r\n",
    "\r\n",
    "# Scatter plots\r\n",
    "f, (ax1, ax2) = plt.subplots(1, 2, sharey=True)\r\n",
    "\r\n",
    "ax1.scatter(X[:,0], X[:,1], c=y, cmap=\"jet\", edgecolor=\"None\", alpha=0.35)\r\n",
    "ax1.set_title(\"Actual clusters\")\r\n",
    "\r\n",
    "ax2.scatter(X[:,0], X[:,1], c=km_pred, cmap=\"jet\", edgecolor=\"None\", alpha=0.35)\r\n",
    "ax2.set_title(\"KMeans clustering plot\")\r\n",
    "\r\n",
    "km.inertia_"
   ],
   "outputs": [
    {
     "output_type": "execute_result",
     "data": {
      "text/plain": [
       "77943099.87829886"
      ]
     },
     "metadata": {},
     "execution_count": 168
    },
    {
     "output_type": "display_data",
>>>>>>> ea00dd733844b6493defdd3e0cfecd8f4f2c254a
     "data": {
      "image/png": "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\n",
      "text/plain": [
       "<Figure size 1296x864 with 4 Axes>"
      ]
     },
     "metadata": {
      "needs_background": "light"
     },
     "output_type": "display_data"
    }
   ],
   "source": [
    "plot_decision_boundary(X, y, models_knn, 2, figsize = (18,12))"
   ]
  },
  {
   "cell_type": "code",
   "execution_count": null,
   "metadata": {},
   "outputs": [],
<<<<<<< HEAD
   "source": []
=======
   "metadata": {}
  },
  {
   "cell_type": "code",
   "execution_count": null,
   "source": [
    "\r\n",
    "pd.plotting.scatter_matrix(DB.iloc[:,:10], figsize=(50,50))"
   ],
   "outputs": [],
   "metadata": {}
  },
  {
   "cell_type": "code",
   "execution_count": null,
   "source": [],
   "outputs": [],
   "metadata": {}
>>>>>>> ea00dd733844b6493defdd3e0cfecd8f4f2c254a
  }
 ],
 "metadata": {
  "interpreter": {
   "hash": "49c83be60149e042cc2794a8b050b1dce30e11cc707533e55c089f43d88aefd9"
  },
  "kernelspec": {
   "display_name": "Python 3 (ipykernel)",
   "language": "python",
   "name": "python3"
  },
  "language_info": {
   "codemirror_mode": {
    "name": "ipython",
    "version": 3
   },
   "file_extension": ".py",
   "mimetype": "text/x-python",
   "name": "python",
   "nbconvert_exporter": "python",
   "pygments_lexer": "ipython3",
   "version": "3.9.5"
  }
 },
 "nbformat": 4,
 "nbformat_minor": 2
}
